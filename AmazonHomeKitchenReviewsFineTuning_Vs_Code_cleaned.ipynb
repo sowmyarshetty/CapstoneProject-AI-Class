{
  "cells": [
    {
      "cell_type": "code",
      "execution_count": 1,
      "metadata": {
        "colab": {
          "base_uri": "https://localhost:8080/"
        },
        "id": "g48ouKyExeMn",
        "outputId": "e69552c6-2347-490e-a35c-5dde836fb950"
      },
      "outputs": [
        {
          "name": "stdout",
          "output_type": "stream",
          "text": [
            "Requirement already satisfied: pip in c:\\users\\spscd\\appdata\\local\\programs\\python\\python313\\lib\\site-packages (25.0.1)\n",
            "Note: you may need to restart the kernel to use updated packages.\n",
            "Requirement already satisfied: python-dotenv in c:\\users\\spscd\\appdata\\local\\programs\\python\\python313\\lib\\site-packages (1.1.0)\n",
            "Requirement already satisfied: jq in c:\\users\\spscd\\appdata\\local\\programs\\python\\python313\\lib\\site-packages (1.8.0)\n",
            "Requirement already satisfied: gdown in c:\\users\\spscd\\appdata\\local\\programs\\python\\python313\\lib\\site-packages (5.2.0)\n",
            "Requirement already satisfied: beautifulsoup4 in c:\\users\\spscd\\appdata\\local\\programs\\python\\python313\\lib\\site-packages (from gdown) (4.13.3)\n",
            "Requirement already satisfied: filelock in c:\\users\\spscd\\appdata\\local\\programs\\python\\python313\\lib\\site-packages (from gdown) (3.18.0)\n",
            "Requirement already satisfied: requests[socks] in c:\\users\\spscd\\appdata\\local\\programs\\python\\python313\\lib\\site-packages (from gdown) (2.32.3)\n",
            "Requirement already satisfied: tqdm in c:\\users\\spscd\\appdata\\local\\programs\\python\\python313\\lib\\site-packages (from gdown) (4.67.1)\n",
            "Requirement already satisfied: soupsieve>1.2 in c:\\users\\spscd\\appdata\\local\\programs\\python\\python313\\lib\\site-packages (from beautifulsoup4->gdown) (2.6)\n",
            "Requirement already satisfied: typing-extensions>=4.0.0 in c:\\users\\spscd\\appdata\\local\\programs\\python\\python313\\lib\\site-packages (from beautifulsoup4->gdown) (4.13.0)\n",
            "Requirement already satisfied: charset-normalizer<4,>=2 in c:\\users\\spscd\\appdata\\local\\programs\\python\\python313\\lib\\site-packages (from requests[socks]->gdown) (3.4.1)\n",
            "Requirement already satisfied: idna<4,>=2.5 in c:\\users\\spscd\\appdata\\local\\programs\\python\\python313\\lib\\site-packages (from requests[socks]->gdown) (3.10)\n",
            "Requirement already satisfied: urllib3<3,>=1.21.1 in c:\\users\\spscd\\appdata\\local\\programs\\python\\python313\\lib\\site-packages (from requests[socks]->gdown) (2.3.0)\n",
            "Requirement already satisfied: certifi>=2017.4.17 in c:\\users\\spscd\\appdata\\local\\programs\\python\\python313\\lib\\site-packages (from requests[socks]->gdown) (2025.1.31)\n",
            "Requirement already satisfied: PySocks!=1.5.7,>=1.5.6 in c:\\users\\spscd\\appdata\\local\\programs\\python\\python313\\lib\\site-packages (from requests[socks]->gdown) (1.7.1)\n",
            "Requirement already satisfied: colorama in c:\\users\\spscd\\appdata\\roaming\\python\\python313\\site-packages (from tqdm->gdown) (0.4.6)\n",
            "Note: you may need to restart the kernel to use updated packages.\n",
            "Requirement already satisfied: langchain in c:\\users\\spscd\\appdata\\local\\programs\\python\\python313\\lib\\site-packages (0.3.22)\n",
            "Requirement already satisfied: langchain_openai in c:\\users\\spscd\\appdata\\local\\programs\\python\\python313\\lib\\site-packages (0.3.12)\n",
            "Requirement already satisfied: langchain_community in c:\\users\\spscd\\appdata\\local\\programs\\python\\python313\\lib\\site-packages (0.3.20)\n",
            "Requirement already satisfied: langchain-core<1.0.0,>=0.3.49 in c:\\users\\spscd\\appdata\\local\\programs\\python\\python313\\lib\\site-packages (from langchain) (0.3.50)\n",
            "Requirement already satisfied: langchain-text-splitters<1.0.0,>=0.3.7 in c:\\users\\spscd\\appdata\\local\\programs\\python\\python313\\lib\\site-packages (from langchain) (0.3.7)\n",
            "Requirement already satisfied: langsmith<0.4,>=0.1.17 in c:\\users\\spscd\\appdata\\local\\programs\\python\\python313\\lib\\site-packages (from langchain) (0.3.23)\n",
            "Requirement already satisfied: pydantic<3.0.0,>=2.7.4 in c:\\users\\spscd\\appdata\\local\\programs\\python\\python313\\lib\\site-packages (from langchain) (2.11.2)\n",
            "Requirement already satisfied: SQLAlchemy<3,>=1.4 in c:\\users\\spscd\\appdata\\local\\programs\\python\\python313\\lib\\site-packages (from langchain) (2.0.40)\n",
            "Requirement already satisfied: requests<3,>=2 in c:\\users\\spscd\\appdata\\local\\programs\\python\\python313\\lib\\site-packages (from langchain) (2.32.3)\n",
            "Requirement already satisfied: PyYAML>=5.3 in c:\\users\\spscd\\appdata\\local\\programs\\python\\python313\\lib\\site-packages (from langchain) (6.0.2)\n",
            "Requirement already satisfied: openai<2.0.0,>=1.68.2 in c:\\users\\spscd\\appdata\\local\\programs\\python\\python313\\lib\\site-packages (from langchain_openai) (1.70.0)\n",
            "Requirement already satisfied: tiktoken<1,>=0.7 in c:\\users\\spscd\\appdata\\local\\programs\\python\\python313\\lib\\site-packages (from langchain_openai) (0.9.0)\n",
            "Requirement already satisfied: aiohttp<4.0.0,>=3.8.3 in c:\\users\\spscd\\appdata\\local\\programs\\python\\python313\\lib\\site-packages (from langchain_community) (3.11.16)\n",
            "Requirement already satisfied: tenacity!=8.4.0,<10,>=8.1.0 in c:\\users\\spscd\\appdata\\local\\programs\\python\\python313\\lib\\site-packages (from langchain_community) (9.1.2)\n",
            "Requirement already satisfied: dataclasses-json<0.7,>=0.5.7 in c:\\users\\spscd\\appdata\\local\\programs\\python\\python313\\lib\\site-packages (from langchain_community) (0.6.7)\n",
            "Requirement already satisfied: pydantic-settings<3.0.0,>=2.4.0 in c:\\users\\spscd\\appdata\\local\\programs\\python\\python313\\lib\\site-packages (from langchain_community) (2.8.1)\n",
            "Requirement already satisfied: httpx-sse<1.0.0,>=0.4.0 in c:\\users\\spscd\\appdata\\local\\programs\\python\\python313\\lib\\site-packages (from langchain_community) (0.4.0)\n",
            "Requirement already satisfied: numpy<3,>=1.26.2 in c:\\users\\spscd\\appdata\\local\\programs\\python\\python313\\lib\\site-packages (from langchain_community) (2.1.3)\n",
            "Requirement already satisfied: aiohappyeyeballs>=2.3.0 in c:\\users\\spscd\\appdata\\local\\programs\\python\\python313\\lib\\site-packages (from aiohttp<4.0.0,>=3.8.3->langchain_community) (2.6.1)\n",
            "Requirement already satisfied: aiosignal>=1.1.2 in c:\\users\\spscd\\appdata\\local\\programs\\python\\python313\\lib\\site-packages (from aiohttp<4.0.0,>=3.8.3->langchain_community) (1.3.2)\n",
            "Requirement already satisfied: attrs>=17.3.0 in c:\\users\\spscd\\appdata\\local\\programs\\python\\python313\\lib\\site-packages (from aiohttp<4.0.0,>=3.8.3->langchain_community) (25.3.0)\n",
            "Requirement already satisfied: frozenlist>=1.1.1 in c:\\users\\spscd\\appdata\\local\\programs\\python\\python313\\lib\\site-packages (from aiohttp<4.0.0,>=3.8.3->langchain_community) (1.5.0)\n",
            "Requirement already satisfied: multidict<7.0,>=4.5 in c:\\users\\spscd\\appdata\\local\\programs\\python\\python313\\lib\\site-packages (from aiohttp<4.0.0,>=3.8.3->langchain_community) (6.2.0)\n",
            "Requirement already satisfied: propcache>=0.2.0 in c:\\users\\spscd\\appdata\\local\\programs\\python\\python313\\lib\\site-packages (from aiohttp<4.0.0,>=3.8.3->langchain_community) (0.3.1)\n",
            "Requirement already satisfied: yarl<2.0,>=1.17.0 in c:\\users\\spscd\\appdata\\local\\programs\\python\\python313\\lib\\site-packages (from aiohttp<4.0.0,>=3.8.3->langchain_community) (1.18.3)\n",
            "Requirement already satisfied: marshmallow<4.0.0,>=3.18.0 in c:\\users\\spscd\\appdata\\local\\programs\\python\\python313\\lib\\site-packages (from dataclasses-json<0.7,>=0.5.7->langchain_community) (3.26.1)\n",
            "Requirement already satisfied: typing-inspect<1,>=0.4.0 in c:\\users\\spscd\\appdata\\local\\programs\\python\\python313\\lib\\site-packages (from dataclasses-json<0.7,>=0.5.7->langchain_community) (0.9.0)\n",
            "Requirement already satisfied: jsonpatch<2.0,>=1.33 in c:\\users\\spscd\\appdata\\local\\programs\\python\\python313\\lib\\site-packages (from langchain-core<1.0.0,>=0.3.49->langchain) (1.33)\n",
            "Requirement already satisfied: packaging<25,>=23.2 in c:\\users\\spscd\\appdata\\roaming\\python\\python313\\site-packages (from langchain-core<1.0.0,>=0.3.49->langchain) (24.2)\n",
            "Requirement already satisfied: typing-extensions>=4.7 in c:\\users\\spscd\\appdata\\local\\programs\\python\\python313\\lib\\site-packages (from langchain-core<1.0.0,>=0.3.49->langchain) (4.13.0)\n",
            "Requirement already satisfied: httpx<1,>=0.23.0 in c:\\users\\spscd\\appdata\\local\\programs\\python\\python313\\lib\\site-packages (from langsmith<0.4,>=0.1.17->langchain) (0.28.1)\n",
            "Requirement already satisfied: orjson<4.0.0,>=3.9.14 in c:\\users\\spscd\\appdata\\local\\programs\\python\\python313\\lib\\site-packages (from langsmith<0.4,>=0.1.17->langchain) (3.10.16)\n",
            "Requirement already satisfied: requests-toolbelt<2.0.0,>=1.0.0 in c:\\users\\spscd\\appdata\\local\\programs\\python\\python313\\lib\\site-packages (from langsmith<0.4,>=0.1.17->langchain) (1.0.0)\n",
            "Requirement already satisfied: zstandard<0.24.0,>=0.23.0 in c:\\users\\spscd\\appdata\\local\\programs\\python\\python313\\lib\\site-packages (from langsmith<0.4,>=0.1.17->langchain) (0.23.0)\n",
            "Requirement already satisfied: anyio<5,>=3.5.0 in c:\\users\\spscd\\appdata\\local\\programs\\python\\python313\\lib\\site-packages (from openai<2.0.0,>=1.68.2->langchain_openai) (4.9.0)\n",
            "Requirement already satisfied: distro<2,>=1.7.0 in c:\\users\\spscd\\appdata\\local\\programs\\python\\python313\\lib\\site-packages (from openai<2.0.0,>=1.68.2->langchain_openai) (1.9.0)\n",
            "Requirement already satisfied: jiter<1,>=0.4.0 in c:\\users\\spscd\\appdata\\local\\programs\\python\\python313\\lib\\site-packages (from openai<2.0.0,>=1.68.2->langchain_openai) (0.9.0)\n",
            "Requirement already satisfied: sniffio in c:\\users\\spscd\\appdata\\local\\programs\\python\\python313\\lib\\site-packages (from openai<2.0.0,>=1.68.2->langchain_openai) (1.3.1)\n",
            "Requirement already satisfied: tqdm>4 in c:\\users\\spscd\\appdata\\local\\programs\\python\\python313\\lib\\site-packages (from openai<2.0.0,>=1.68.2->langchain_openai) (4.67.1)\n",
            "Requirement already satisfied: annotated-types>=0.6.0 in c:\\users\\spscd\\appdata\\local\\programs\\python\\python313\\lib\\site-packages (from pydantic<3.0.0,>=2.7.4->langchain) (0.7.0)\n",
            "Requirement already satisfied: pydantic-core==2.33.1 in c:\\users\\spscd\\appdata\\local\\programs\\python\\python313\\lib\\site-packages (from pydantic<3.0.0,>=2.7.4->langchain) (2.33.1)\n",
            "Requirement already satisfied: typing-inspection>=0.4.0 in c:\\users\\spscd\\appdata\\local\\programs\\python\\python313\\lib\\site-packages (from pydantic<3.0.0,>=2.7.4->langchain) (0.4.0)\n",
            "Requirement already satisfied: python-dotenv>=0.21.0 in c:\\users\\spscd\\appdata\\local\\programs\\python\\python313\\lib\\site-packages (from pydantic-settings<3.0.0,>=2.4.0->langchain_community) (1.1.0)\n",
            "Requirement already satisfied: charset-normalizer<4,>=2 in c:\\users\\spscd\\appdata\\local\\programs\\python\\python313\\lib\\site-packages (from requests<3,>=2->langchain) (3.4.1)\n",
            "Requirement already satisfied: idna<4,>=2.5 in c:\\users\\spscd\\appdata\\local\\programs\\python\\python313\\lib\\site-packages (from requests<3,>=2->langchain) (3.10)\n",
            "Requirement already satisfied: urllib3<3,>=1.21.1 in c:\\users\\spscd\\appdata\\local\\programs\\python\\python313\\lib\\site-packages (from requests<3,>=2->langchain) (2.3.0)\n",
            "Requirement already satisfied: certifi>=2017.4.17 in c:\\users\\spscd\\appdata\\local\\programs\\python\\python313\\lib\\site-packages (from requests<3,>=2->langchain) (2025.1.31)\n",
            "Requirement already satisfied: greenlet>=1 in c:\\users\\spscd\\appdata\\local\\programs\\python\\python313\\lib\\site-packages (from SQLAlchemy<3,>=1.4->langchain) (3.1.1)\n",
            "Requirement already satisfied: regex>=2022.1.18 in c:\\users\\spscd\\appdata\\local\\programs\\python\\python313\\lib\\site-packages (from tiktoken<1,>=0.7->langchain_openai) (2024.11.6)\n",
            "Requirement already satisfied: httpcore==1.* in c:\\users\\spscd\\appdata\\local\\programs\\python\\python313\\lib\\site-packages (from httpx<1,>=0.23.0->langsmith<0.4,>=0.1.17->langchain) (1.0.7)\n",
            "Requirement already satisfied: h11<0.15,>=0.13 in c:\\users\\spscd\\appdata\\local\\programs\\python\\python313\\lib\\site-packages (from httpcore==1.*->httpx<1,>=0.23.0->langsmith<0.4,>=0.1.17->langchain) (0.14.0)\n",
            "Requirement already satisfied: jsonpointer>=1.9 in c:\\users\\spscd\\appdata\\local\\programs\\python\\python313\\lib\\site-packages (from jsonpatch<2.0,>=1.33->langchain-core<1.0.0,>=0.3.49->langchain) (3.0.0)\n",
            "Requirement already satisfied: colorama in c:\\users\\spscd\\appdata\\roaming\\python\\python313\\site-packages (from tqdm>4->openai<2.0.0,>=1.68.2->langchain_openai) (0.4.6)\n",
            "Requirement already satisfied: mypy-extensions>=0.3.0 in c:\\users\\spscd\\appdata\\local\\programs\\python\\python313\\lib\\site-packages (from typing-inspect<1,>=0.4.0->dataclasses-json<0.7,>=0.5.7->langchain_community) (1.0.0)\n",
            "Note: you may need to restart the kernel to use updated packages.\n",
            "Requirement already satisfied: scikit-learn in c:\\users\\spscd\\appdata\\local\\programs\\python\\python313\\lib\\site-packages (1.6.1)\n",
            "Requirement already satisfied: pandas in c:\\users\\spscd\\appdata\\local\\programs\\python\\python313\\lib\\site-packages (2.2.3)\n",
            "Requirement already satisfied: numpy in c:\\users\\spscd\\appdata\\local\\programs\\python\\python313\\lib\\site-packages (2.1.3)\n",
            "Requirement already satisfied: dask in c:\\users\\spscd\\appdata\\local\\programs\\python\\python313\\lib\\site-packages (2025.3.0)\n",
            "Requirement already satisfied: datasets in c:\\users\\spscd\\appdata\\local\\programs\\python\\python313\\lib\\site-packages (3.5.0)\n",
            "Requirement already satisfied: docarray in c:\\users\\spscd\\appdata\\local\\programs\\python\\python313\\lib\\site-packages (0.41.0)\n",
            "Requirement already satisfied: scipy>=1.6.0 in c:\\users\\spscd\\appdata\\local\\programs\\python\\python313\\lib\\site-packages (from scikit-learn) (1.15.2)\n",
            "Requirement already satisfied: joblib>=1.2.0 in c:\\users\\spscd\\appdata\\local\\programs\\python\\python313\\lib\\site-packages (from scikit-learn) (1.4.2)\n",
            "Requirement already satisfied: threadpoolctl>=3.1.0 in c:\\users\\spscd\\appdata\\local\\programs\\python\\python313\\lib\\site-packages (from scikit-learn) (3.6.0)\n",
            "Requirement already satisfied: python-dateutil>=2.8.2 in c:\\users\\spscd\\appdata\\roaming\\python\\python313\\site-packages (from pandas) (2.9.0.post0)\n",
            "Requirement already satisfied: pytz>=2020.1 in c:\\users\\spscd\\appdata\\local\\programs\\python\\python313\\lib\\site-packages (from pandas) (2025.2)\n",
            "Requirement already satisfied: tzdata>=2022.7 in c:\\users\\spscd\\appdata\\local\\programs\\python\\python313\\lib\\site-packages (from pandas) (2025.2)\n",
            "Requirement already satisfied: click>=8.1 in c:\\users\\spscd\\appdata\\local\\programs\\python\\python313\\lib\\site-packages (from dask) (8.1.8)\n",
            "Requirement already satisfied: cloudpickle>=3.0.0 in c:\\users\\spscd\\appdata\\local\\programs\\python\\python313\\lib\\site-packages (from dask) (3.1.1)\n",
            "Requirement already satisfied: fsspec>=2021.09.0 in c:\\users\\spscd\\appdata\\local\\programs\\python\\python313\\lib\\site-packages (from dask) (2024.12.0)\n",
            "Requirement already satisfied: packaging>=20.0 in c:\\users\\spscd\\appdata\\roaming\\python\\python313\\site-packages (from dask) (24.2)\n",
            "Requirement already satisfied: partd>=1.4.0 in c:\\users\\spscd\\appdata\\local\\programs\\python\\python313\\lib\\site-packages (from dask) (1.4.2)\n",
            "Requirement already satisfied: pyyaml>=5.3.1 in c:\\users\\spscd\\appdata\\local\\programs\\python\\python313\\lib\\site-packages (from dask) (6.0.2)\n",
            "Requirement already satisfied: toolz>=0.10.0 in c:\\users\\spscd\\appdata\\local\\programs\\python\\python313\\lib\\site-packages (from dask) (1.0.0)\n",
            "Requirement already satisfied: filelock in c:\\users\\spscd\\appdata\\local\\programs\\python\\python313\\lib\\site-packages (from datasets) (3.18.0)\n",
            "Requirement already satisfied: pyarrow>=15.0.0 in c:\\users\\spscd\\appdata\\local\\programs\\python\\python313\\lib\\site-packages (from datasets) (19.0.1)\n",
            "Requirement already satisfied: dill<0.3.9,>=0.3.0 in c:\\users\\spscd\\appdata\\local\\programs\\python\\python313\\lib\\site-packages (from datasets) (0.3.8)\n",
            "Requirement already satisfied: requests>=2.32.2 in c:\\users\\spscd\\appdata\\local\\programs\\python\\python313\\lib\\site-packages (from datasets) (2.32.3)\n",
            "Requirement already satisfied: tqdm>=4.66.3 in c:\\users\\spscd\\appdata\\local\\programs\\python\\python313\\lib\\site-packages (from datasets) (4.67.1)\n",
            "Requirement already satisfied: xxhash in c:\\users\\spscd\\appdata\\local\\programs\\python\\python313\\lib\\site-packages (from datasets) (3.5.0)\n",
            "Requirement already satisfied: multiprocess<0.70.17 in c:\\users\\spscd\\appdata\\local\\programs\\python\\python313\\lib\\site-packages (from datasets) (0.70.16)\n",
            "Requirement already satisfied: aiohttp in c:\\users\\spscd\\appdata\\local\\programs\\python\\python313\\lib\\site-packages (from datasets) (3.11.16)\n",
            "Requirement already satisfied: huggingface-hub>=0.24.0 in c:\\users\\spscd\\appdata\\local\\programs\\python\\python313\\lib\\site-packages (from datasets) (0.30.1)\n",
            "Requirement already satisfied: orjson>=3.8.2 in c:\\users\\spscd\\appdata\\local\\programs\\python\\python313\\lib\\site-packages (from docarray) (3.10.16)\n",
            "Requirement already satisfied: pydantic>=1.10.8 in c:\\users\\spscd\\appdata\\local\\programs\\python\\python313\\lib\\site-packages (from docarray) (2.11.2)\n",
            "Requirement already satisfied: rich>=13.1.0 in c:\\users\\spscd\\appdata\\local\\programs\\python\\python313\\lib\\site-packages (from docarray) (14.0.0)\n",
            "Requirement already satisfied: types-requests>=2.28.11.6 in c:\\users\\spscd\\appdata\\local\\programs\\python\\python313\\lib\\site-packages (from docarray) (2.32.0.20250328)\n",
            "Requirement already satisfied: typing-inspect>=0.8.0 in c:\\users\\spscd\\appdata\\local\\programs\\python\\python313\\lib\\site-packages (from docarray) (0.9.0)\n",
            "Requirement already satisfied: colorama in c:\\users\\spscd\\appdata\\roaming\\python\\python313\\site-packages (from click>=8.1->dask) (0.4.6)\n",
            "Requirement already satisfied: aiohappyeyeballs>=2.3.0 in c:\\users\\spscd\\appdata\\local\\programs\\python\\python313\\lib\\site-packages (from aiohttp->datasets) (2.6.1)\n",
            "Requirement already satisfied: aiosignal>=1.1.2 in c:\\users\\spscd\\appdata\\local\\programs\\python\\python313\\lib\\site-packages (from aiohttp->datasets) (1.3.2)\n",
            "Requirement already satisfied: attrs>=17.3.0 in c:\\users\\spscd\\appdata\\local\\programs\\python\\python313\\lib\\site-packages (from aiohttp->datasets) (25.3.0)\n",
            "Requirement already satisfied: frozenlist>=1.1.1 in c:\\users\\spscd\\appdata\\local\\programs\\python\\python313\\lib\\site-packages (from aiohttp->datasets) (1.5.0)\n",
            "Requirement already satisfied: multidict<7.0,>=4.5 in c:\\users\\spscd\\appdata\\local\\programs\\python\\python313\\lib\\site-packages (from aiohttp->datasets) (6.2.0)\n",
            "Requirement already satisfied: propcache>=0.2.0 in c:\\users\\spscd\\appdata\\local\\programs\\python\\python313\\lib\\site-packages (from aiohttp->datasets) (0.3.1)\n",
            "Requirement already satisfied: yarl<2.0,>=1.17.0 in c:\\users\\spscd\\appdata\\local\\programs\\python\\python313\\lib\\site-packages (from aiohttp->datasets) (1.18.3)\n",
            "Requirement already satisfied: typing-extensions>=3.7.4.3 in c:\\users\\spscd\\appdata\\local\\programs\\python\\python313\\lib\\site-packages (from huggingface-hub>=0.24.0->datasets) (4.13.0)\n",
            "Requirement already satisfied: locket in c:\\users\\spscd\\appdata\\local\\programs\\python\\python313\\lib\\site-packages (from partd>=1.4.0->dask) (1.0.0)\n",
            "Requirement already satisfied: annotated-types>=0.6.0 in c:\\users\\spscd\\appdata\\local\\programs\\python\\python313\\lib\\site-packages (from pydantic>=1.10.8->docarray) (0.7.0)\n",
            "Requirement already satisfied: pydantic-core==2.33.1 in c:\\users\\spscd\\appdata\\local\\programs\\python\\python313\\lib\\site-packages (from pydantic>=1.10.8->docarray) (2.33.1)\n",
            "Requirement already satisfied: typing-inspection>=0.4.0 in c:\\users\\spscd\\appdata\\local\\programs\\python\\python313\\lib\\site-packages (from pydantic>=1.10.8->docarray) (0.4.0)\n",
            "Requirement already satisfied: six>=1.5 in c:\\users\\spscd\\appdata\\roaming\\python\\python313\\site-packages (from python-dateutil>=2.8.2->pandas) (1.17.0)\n",
            "Requirement already satisfied: charset-normalizer<4,>=2 in c:\\users\\spscd\\appdata\\local\\programs\\python\\python313\\lib\\site-packages (from requests>=2.32.2->datasets) (3.4.1)\n",
            "Requirement already satisfied: idna<4,>=2.5 in c:\\users\\spscd\\appdata\\local\\programs\\python\\python313\\lib\\site-packages (from requests>=2.32.2->datasets) (3.10)\n",
            "Requirement already satisfied: urllib3<3,>=1.21.1 in c:\\users\\spscd\\appdata\\local\\programs\\python\\python313\\lib\\site-packages (from requests>=2.32.2->datasets) (2.3.0)\n",
            "Requirement already satisfied: certifi>=2017.4.17 in c:\\users\\spscd\\appdata\\local\\programs\\python\\python313\\lib\\site-packages (from requests>=2.32.2->datasets) (2025.1.31)\n",
            "Requirement already satisfied: markdown-it-py>=2.2.0 in c:\\users\\spscd\\appdata\\local\\programs\\python\\python313\\lib\\site-packages (from rich>=13.1.0->docarray) (3.0.0)\n",
            "Requirement already satisfied: pygments<3.0.0,>=2.13.0 in c:\\users\\spscd\\appdata\\roaming\\python\\python313\\site-packages (from rich>=13.1.0->docarray) (2.19.1)\n",
            "Requirement already satisfied: mypy-extensions>=0.3.0 in c:\\users\\spscd\\appdata\\local\\programs\\python\\python313\\lib\\site-packages (from typing-inspect>=0.8.0->docarray) (1.0.0)\n",
            "Requirement already satisfied: mdurl~=0.1 in c:\\users\\spscd\\appdata\\local\\programs\\python\\python313\\lib\\site-packages (from markdown-it-py>=2.2.0->rich>=13.1.0->docarray) (0.1.2)\n",
            "Note: you may need to restart the kernel to use updated packages.\n",
            "Requirement already satisfied: bertopic[all] in c:\\users\\spscd\\appdata\\local\\programs\\python\\python313\\lib\\site-packages (0.17.0)\n",
            "Requirement already satisfied: hdbscan>=0.8.29 in c:\\users\\spscd\\appdata\\local\\programs\\python\\python313\\lib\\site-packages (from bertopic[all]) (0.8.40)\n",
            "Requirement already satisfied: numpy>=1.20.0 in c:\\users\\spscd\\appdata\\local\\programs\\python\\python313\\lib\\site-packages (from bertopic[all]) (2.1.3)\n",
            "Requirement already satisfied: pandas>=1.1.5 in c:\\users\\spscd\\appdata\\local\\programs\\python\\python313\\lib\\site-packages (from bertopic[all]) (2.2.3)\n",
            "Requirement already satisfied: plotly>=4.7.0 in c:\\users\\spscd\\appdata\\local\\programs\\python\\python313\\lib\\site-packages (from bertopic[all]) (6.0.1)\n",
            "Requirement already satisfied: scikit-learn>=1.0 in c:\\users\\spscd\\appdata\\local\\programs\\python\\python313\\lib\\site-packages (from bertopic[all]) (1.6.1)\n",
            "Requirement already satisfied: sentence-transformers>=0.4.1 in c:\\users\\spscd\\appdata\\local\\programs\\python\\python313\\lib\\site-packages (from bertopic[all]) (4.0.2)\n",
            "Requirement already satisfied: tqdm>=4.41.1 in c:\\users\\spscd\\appdata\\local\\programs\\python\\python313\\lib\\site-packages (from bertopic[all]) (4.67.1)\n",
            "Requirement already satisfied: umap-learn>=0.5.0 in c:\\users\\spscd\\appdata\\local\\programs\\python\\python313\\lib\\site-packages (from bertopic[all]) (0.5.7)\n",
            "Requirement already satisfied: scipy>=1.0 in c:\\users\\spscd\\appdata\\local\\programs\\python\\python313\\lib\\site-packages (from hdbscan>=0.8.29->bertopic[all]) (1.15.2)\n",
            "Requirement already satisfied: joblib>=1.0 in c:\\users\\spscd\\appdata\\local\\programs\\python\\python313\\lib\\site-packages (from hdbscan>=0.8.29->bertopic[all]) (1.4.2)\n",
            "Requirement already satisfied: python-dateutil>=2.8.2 in c:\\users\\spscd\\appdata\\roaming\\python\\python313\\site-packages (from pandas>=1.1.5->bertopic[all]) (2.9.0.post0)\n",
            "Requirement already satisfied: pytz>=2020.1 in c:\\users\\spscd\\appdata\\local\\programs\\python\\python313\\lib\\site-packages (from pandas>=1.1.5->bertopic[all]) (2025.2)\n",
            "Requirement already satisfied: tzdata>=2022.7 in c:\\users\\spscd\\appdata\\local\\programs\\python\\python313\\lib\\site-packages (from pandas>=1.1.5->bertopic[all]) (2025.2)\n",
            "Requirement already satisfied: narwhals>=1.15.1 in c:\\users\\spscd\\appdata\\local\\programs\\python\\python313\\lib\\site-packages (from plotly>=4.7.0->bertopic[all]) (1.33.0)\n",
            "Requirement already satisfied: packaging in c:\\users\\spscd\\appdata\\roaming\\python\\python313\\site-packages (from plotly>=4.7.0->bertopic[all]) (24.2)\n",
            "Requirement already satisfied: threadpoolctl>=3.1.0 in c:\\users\\spscd\\appdata\\local\\programs\\python\\python313\\lib\\site-packages (from scikit-learn>=1.0->bertopic[all]) (3.6.0)\n",
            "Requirement already satisfied: transformers<5.0.0,>=4.41.0 in c:\\users\\spscd\\appdata\\local\\programs\\python\\python313\\lib\\site-packages (from sentence-transformers>=0.4.1->bertopic[all]) (4.50.3)\n",
            "Requirement already satisfied: torch>=1.11.0 in c:\\users\\spscd\\appdata\\local\\programs\\python\\python313\\lib\\site-packages (from sentence-transformers>=0.4.1->bertopic[all]) (2.6.0)\n",
            "Requirement already satisfied: huggingface-hub>=0.20.0 in c:\\users\\spscd\\appdata\\local\\programs\\python\\python313\\lib\\site-packages (from sentence-transformers>=0.4.1->bertopic[all]) (0.30.1)\n",
            "Requirement already satisfied: Pillow in c:\\users\\spscd\\appdata\\local\\programs\\python\\python313\\lib\\site-packages (from sentence-transformers>=0.4.1->bertopic[all]) (11.1.0)\n",
            "Requirement already satisfied: typing_extensions>=4.5.0 in c:\\users\\spscd\\appdata\\local\\programs\\python\\python313\\lib\\site-packages (from sentence-transformers>=0.4.1->bertopic[all]) (4.13.0)\n",
            "Requirement already satisfied: colorama in c:\\users\\spscd\\appdata\\roaming\\python\\python313\\site-packages (from tqdm>=4.41.1->bertopic[all]) (0.4.6)\n",
            "Requirement already satisfied: numba>=0.51.2 in c:\\users\\spscd\\appdata\\local\\programs\\python\\python313\\lib\\site-packages (from umap-learn>=0.5.0->bertopic[all]) (0.61.0)\n",
            "Requirement already satisfied: pynndescent>=0.5 in c:\\users\\spscd\\appdata\\local\\programs\\python\\python313\\lib\\site-packages (from umap-learn>=0.5.0->bertopic[all]) (0.5.13)\n",
            "Requirement already satisfied: filelock in c:\\users\\spscd\\appdata\\local\\programs\\python\\python313\\lib\\site-packages (from huggingface-hub>=0.20.0->sentence-transformers>=0.4.1->bertopic[all]) (3.18.0)\n",
            "Requirement already satisfied: fsspec>=2023.5.0 in c:\\users\\spscd\\appdata\\local\\programs\\python\\python313\\lib\\site-packages (from huggingface-hub>=0.20.0->sentence-transformers>=0.4.1->bertopic[all]) (2024.12.0)\n",
            "Requirement already satisfied: pyyaml>=5.1 in c:\\users\\spscd\\appdata\\local\\programs\\python\\python313\\lib\\site-packages (from huggingface-hub>=0.20.0->sentence-transformers>=0.4.1->bertopic[all]) (6.0.2)\n",
            "Requirement already satisfied: requests in c:\\users\\spscd\\appdata\\local\\programs\\python\\python313\\lib\\site-packages (from huggingface-hub>=0.20.0->sentence-transformers>=0.4.1->bertopic[all]) (2.32.3)\n",
            "Requirement already satisfied: llvmlite<0.45,>=0.44.0dev0 in c:\\users\\spscd\\appdata\\local\\programs\\python\\python313\\lib\\site-packages (from numba>=0.51.2->umap-learn>=0.5.0->bertopic[all]) (0.44.0)\n",
            "Requirement already satisfied: six>=1.5 in c:\\users\\spscd\\appdata\\roaming\\python\\python313\\site-packages (from python-dateutil>=2.8.2->pandas>=1.1.5->bertopic[all]) (1.17.0)\n",
            "Requirement already satisfied: networkx in c:\\users\\spscd\\appdata\\local\\programs\\python\\python313\\lib\\site-packages (from torch>=1.11.0->sentence-transformers>=0.4.1->bertopic[all]) (3.4.2)\n",
            "Requirement already satisfied: jinja2 in c:\\users\\spscd\\appdata\\local\\programs\\python\\python313\\lib\\site-packages (from torch>=1.11.0->sentence-transformers>=0.4.1->bertopic[all]) (3.1.6)\n",
            "Requirement already satisfied: setuptools in c:\\users\\spscd\\appdata\\local\\programs\\python\\python313\\lib\\site-packages (from torch>=1.11.0->sentence-transformers>=0.4.1->bertopic[all]) (78.1.0)\n",
            "Requirement already satisfied: sympy==1.13.1 in c:\\users\\spscd\\appdata\\local\\programs\\python\\python313\\lib\\site-packages (from torch>=1.11.0->sentence-transformers>=0.4.1->bertopic[all]) (1.13.1)\n",
            "Requirement already satisfied: mpmath<1.4,>=1.1.0 in c:\\users\\spscd\\appdata\\local\\programs\\python\\python313\\lib\\site-packages (from sympy==1.13.1->torch>=1.11.0->sentence-transformers>=0.4.1->bertopic[all]) (1.3.0)\n",
            "Requirement already satisfied: regex!=2019.12.17 in c:\\users\\spscd\\appdata\\local\\programs\\python\\python313\\lib\\site-packages (from transformers<5.0.0,>=4.41.0->sentence-transformers>=0.4.1->bertopic[all]) (2024.11.6)\n",
            "Requirement already satisfied: tokenizers<0.22,>=0.21 in c:\\users\\spscd\\appdata\\local\\programs\\python\\python313\\lib\\site-packages (from transformers<5.0.0,>=4.41.0->sentence-transformers>=0.4.1->bertopic[all]) (0.21.1)\n",
            "Requirement already satisfied: safetensors>=0.4.3 in c:\\users\\spscd\\appdata\\local\\programs\\python\\python313\\lib\\site-packages (from transformers<5.0.0,>=4.41.0->sentence-transformers>=0.4.1->bertopic[all]) (0.5.3)\n",
            "Requirement already satisfied: MarkupSafe>=2.0 in c:\\users\\spscd\\appdata\\local\\programs\\python\\python313\\lib\\site-packages (from jinja2->torch>=1.11.0->sentence-transformers>=0.4.1->bertopic[all]) (3.0.2)\n",
            "Requirement already satisfied: charset-normalizer<4,>=2 in c:\\users\\spscd\\appdata\\local\\programs\\python\\python313\\lib\\site-packages (from requests->huggingface-hub>=0.20.0->sentence-transformers>=0.4.1->bertopic[all]) (3.4.1)\n",
            "Requirement already satisfied: idna<4,>=2.5 in c:\\users\\spscd\\appdata\\local\\programs\\python\\python313\\lib\\site-packages (from requests->huggingface-hub>=0.20.0->sentence-transformers>=0.4.1->bertopic[all]) (3.10)\n",
            "Requirement already satisfied: urllib3<3,>=1.21.1 in c:\\users\\spscd\\appdata\\local\\programs\\python\\python313\\lib\\site-packages (from requests->huggingface-hub>=0.20.0->sentence-transformers>=0.4.1->bertopic[all]) (2.3.0)\n",
            "Requirement already satisfied: certifi>=2017.4.17 in c:\\users\\spscd\\appdata\\local\\programs\\python\\python313\\lib\\site-packages (from requests->huggingface-hub>=0.20.0->sentence-transformers>=0.4.1->bertopic[all]) (2025.1.31)\n",
            "Note: you may need to restart the kernel to use updated packages.\n"
          ]
        },
        {
          "name": "stderr",
          "output_type": "stream",
          "text": [
            "WARNING: bertopic 0.17.0 does not provide the extra 'all'\n"
          ]
        },
        {
          "name": "stdout",
          "output_type": "stream",
          "text": [
            "Requirement already satisfied: ipywidgets in c:\\users\\spscd\\appdata\\local\\programs\\python\\python313\\lib\\site-packages (8.1.5)\n",
            "Requirement already satisfied: notebook in c:\\users\\spscd\\appdata\\local\\programs\\python\\python313\\lib\\site-packages (7.3.3)\n",
            "Requirement already satisfied: comm>=0.1.3 in c:\\users\\spscd\\appdata\\roaming\\python\\python313\\site-packages (from ipywidgets) (0.2.2)\n",
            "Requirement already satisfied: ipython>=6.1.0 in c:\\users\\spscd\\appdata\\roaming\\python\\python313\\site-packages (from ipywidgets) (9.0.2)\n",
            "Requirement already satisfied: traitlets>=4.3.1 in c:\\users\\spscd\\appdata\\roaming\\python\\python313\\site-packages (from ipywidgets) (5.14.3)\n",
            "Requirement already satisfied: widgetsnbextension~=4.0.12 in c:\\users\\spscd\\appdata\\local\\programs\\python\\python313\\lib\\site-packages (from ipywidgets) (4.0.13)\n",
            "Requirement already satisfied: jupyterlab-widgets~=3.0.12 in c:\\users\\spscd\\appdata\\local\\programs\\python\\python313\\lib\\site-packages (from ipywidgets) (3.0.13)\n",
            "Requirement already satisfied: jupyter-server<3,>=2.4.0 in c:\\users\\spscd\\appdata\\local\\programs\\python\\python313\\lib\\site-packages (from notebook) (2.15.0)\n",
            "Requirement already satisfied: jupyterlab-server<3,>=2.27.1 in c:\\users\\spscd\\appdata\\local\\programs\\python\\python313\\lib\\site-packages (from notebook) (2.27.3)\n",
            "Requirement already satisfied: jupyterlab<4.4,>=4.3.6 in c:\\users\\spscd\\appdata\\local\\programs\\python\\python313\\lib\\site-packages (from notebook) (4.3.6)\n",
            "Requirement already satisfied: notebook-shim<0.3,>=0.2 in c:\\users\\spscd\\appdata\\local\\programs\\python\\python313\\lib\\site-packages (from notebook) (0.2.4)\n",
            "Requirement already satisfied: tornado>=6.2.0 in c:\\users\\spscd\\appdata\\roaming\\python\\python313\\site-packages (from notebook) (6.4.2)\n",
            "Requirement already satisfied: colorama in c:\\users\\spscd\\appdata\\roaming\\python\\python313\\site-packages (from ipython>=6.1.0->ipywidgets) (0.4.6)\n",
            "Requirement already satisfied: decorator in c:\\users\\spscd\\appdata\\roaming\\python\\python313\\site-packages (from ipython>=6.1.0->ipywidgets) (5.2.1)\n",
            "Requirement already satisfied: ipython-pygments-lexers in c:\\users\\spscd\\appdata\\roaming\\python\\python313\\site-packages (from ipython>=6.1.0->ipywidgets) (1.1.1)\n",
            "Requirement already satisfied: jedi>=0.16 in c:\\users\\spscd\\appdata\\roaming\\python\\python313\\site-packages (from ipython>=6.1.0->ipywidgets) (0.19.2)\n",
            "Requirement already satisfied: matplotlib-inline in c:\\users\\spscd\\appdata\\roaming\\python\\python313\\site-packages (from ipython>=6.1.0->ipywidgets) (0.1.7)\n",
            "Requirement already satisfied: prompt_toolkit<3.1.0,>=3.0.41 in c:\\users\\spscd\\appdata\\roaming\\python\\python313\\site-packages (from ipython>=6.1.0->ipywidgets) (3.0.50)\n",
            "Requirement already satisfied: pygments>=2.4.0 in c:\\users\\spscd\\appdata\\roaming\\python\\python313\\site-packages (from ipython>=6.1.0->ipywidgets) (2.19.1)\n",
            "Requirement already satisfied: stack_data in c:\\users\\spscd\\appdata\\roaming\\python\\python313\\site-packages (from ipython>=6.1.0->ipywidgets) (0.6.3)\n",
            "Requirement already satisfied: anyio>=3.1.0 in c:\\users\\spscd\\appdata\\local\\programs\\python\\python313\\lib\\site-packages (from jupyter-server<3,>=2.4.0->notebook) (4.9.0)\n",
            "Requirement already satisfied: argon2-cffi>=21.1 in c:\\users\\spscd\\appdata\\local\\programs\\python\\python313\\lib\\site-packages (from jupyter-server<3,>=2.4.0->notebook) (23.1.0)\n",
            "Requirement already satisfied: jinja2>=3.0.3 in c:\\users\\spscd\\appdata\\local\\programs\\python\\python313\\lib\\site-packages (from jupyter-server<3,>=2.4.0->notebook) (3.1.6)\n",
            "Requirement already satisfied: jupyter-client>=7.4.4 in c:\\users\\spscd\\appdata\\roaming\\python\\python313\\site-packages (from jupyter-server<3,>=2.4.0->notebook) (8.6.3)\n",
            "Requirement already satisfied: jupyter-core!=5.0.*,>=4.12 in c:\\users\\spscd\\appdata\\roaming\\python\\python313\\site-packages (from jupyter-server<3,>=2.4.0->notebook) (5.7.2)\n",
            "Requirement already satisfied: jupyter-events>=0.11.0 in c:\\users\\spscd\\appdata\\local\\programs\\python\\python313\\lib\\site-packages (from jupyter-server<3,>=2.4.0->notebook) (0.12.0)\n",
            "Requirement already satisfied: jupyter-server-terminals>=0.4.4 in c:\\users\\spscd\\appdata\\local\\programs\\python\\python313\\lib\\site-packages (from jupyter-server<3,>=2.4.0->notebook) (0.5.3)\n",
            "Requirement already satisfied: nbconvert>=6.4.4 in c:\\users\\spscd\\appdata\\local\\programs\\python\\python313\\lib\\site-packages (from jupyter-server<3,>=2.4.0->notebook) (7.16.6)\n",
            "Requirement already satisfied: nbformat>=5.3.0 in c:\\users\\spscd\\appdata\\local\\programs\\python\\python313\\lib\\site-packages (from jupyter-server<3,>=2.4.0->notebook) (5.10.4)\n",
            "Requirement already satisfied: overrides>=5.0 in c:\\users\\spscd\\appdata\\local\\programs\\python\\python313\\lib\\site-packages (from jupyter-server<3,>=2.4.0->notebook) (7.7.0)\n",
            "Requirement already satisfied: packaging>=22.0 in c:\\users\\spscd\\appdata\\roaming\\python\\python313\\site-packages (from jupyter-server<3,>=2.4.0->notebook) (24.2)\n",
            "Requirement already satisfied: prometheus-client>=0.9 in c:\\users\\spscd\\appdata\\local\\programs\\python\\python313\\lib\\site-packages (from jupyter-server<3,>=2.4.0->notebook) (0.21.1)\n",
            "Requirement already satisfied: pywinpty>=2.0.1 in c:\\users\\spscd\\appdata\\local\\programs\\python\\python313\\lib\\site-packages (from jupyter-server<3,>=2.4.0->notebook) (2.0.15)\n",
            "Requirement already satisfied: pyzmq>=24 in c:\\users\\spscd\\appdata\\roaming\\python\\python313\\site-packages (from jupyter-server<3,>=2.4.0->notebook) (26.3.0)\n",
            "Requirement already satisfied: send2trash>=1.8.2 in c:\\users\\spscd\\appdata\\local\\programs\\python\\python313\\lib\\site-packages (from jupyter-server<3,>=2.4.0->notebook) (1.8.3)\n",
            "Requirement already satisfied: terminado>=0.8.3 in c:\\users\\spscd\\appdata\\local\\programs\\python\\python313\\lib\\site-packages (from jupyter-server<3,>=2.4.0->notebook) (0.18.1)\n",
            "Requirement already satisfied: websocket-client>=1.7 in c:\\users\\spscd\\appdata\\local\\programs\\python\\python313\\lib\\site-packages (from jupyter-server<3,>=2.4.0->notebook) (1.8.0)\n",
            "Requirement already satisfied: async-lru>=1.0.0 in c:\\users\\spscd\\appdata\\local\\programs\\python\\python313\\lib\\site-packages (from jupyterlab<4.4,>=4.3.6->notebook) (2.0.5)\n",
            "Requirement already satisfied: httpx>=0.25.0 in c:\\users\\spscd\\appdata\\local\\programs\\python\\python313\\lib\\site-packages (from jupyterlab<4.4,>=4.3.6->notebook) (0.28.1)\n",
            "Requirement already satisfied: ipykernel>=6.5.0 in c:\\users\\spscd\\appdata\\roaming\\python\\python313\\site-packages (from jupyterlab<4.4,>=4.3.6->notebook) (6.29.5)\n",
            "Requirement already satisfied: jupyter-lsp>=2.0.0 in c:\\users\\spscd\\appdata\\local\\programs\\python\\python313\\lib\\site-packages (from jupyterlab<4.4,>=4.3.6->notebook) (2.2.5)\n",
            "Requirement already satisfied: setuptools>=40.8.0 in c:\\users\\spscd\\appdata\\local\\programs\\python\\python313\\lib\\site-packages (from jupyterlab<4.4,>=4.3.6->notebook) (78.1.0)\n",
            "Requirement already satisfied: babel>=2.10 in c:\\users\\spscd\\appdata\\local\\programs\\python\\python313\\lib\\site-packages (from jupyterlab-server<3,>=2.27.1->notebook) (2.17.0)\n",
            "Requirement already satisfied: json5>=0.9.0 in c:\\users\\spscd\\appdata\\local\\programs\\python\\python313\\lib\\site-packages (from jupyterlab-server<3,>=2.27.1->notebook) (0.11.0)\n",
            "Requirement already satisfied: jsonschema>=4.18.0 in c:\\users\\spscd\\appdata\\local\\programs\\python\\python313\\lib\\site-packages (from jupyterlab-server<3,>=2.27.1->notebook) (4.23.0)\n",
            "Requirement already satisfied: requests>=2.31 in c:\\users\\spscd\\appdata\\local\\programs\\python\\python313\\lib\\site-packages (from jupyterlab-server<3,>=2.27.1->notebook) (2.32.3)\n",
            "Requirement already satisfied: idna>=2.8 in c:\\users\\spscd\\appdata\\local\\programs\\python\\python313\\lib\\site-packages (from anyio>=3.1.0->jupyter-server<3,>=2.4.0->notebook) (3.10)\n",
            "Requirement already satisfied: sniffio>=1.1 in c:\\users\\spscd\\appdata\\local\\programs\\python\\python313\\lib\\site-packages (from anyio>=3.1.0->jupyter-server<3,>=2.4.0->notebook) (1.3.1)\n",
            "Requirement already satisfied: argon2-cffi-bindings in c:\\users\\spscd\\appdata\\local\\programs\\python\\python313\\lib\\site-packages (from argon2-cffi>=21.1->jupyter-server<3,>=2.4.0->notebook) (21.2.0)\n",
            "Requirement already satisfied: certifi in c:\\users\\spscd\\appdata\\local\\programs\\python\\python313\\lib\\site-packages (from httpx>=0.25.0->jupyterlab<4.4,>=4.3.6->notebook) (2025.1.31)\n",
            "Requirement already satisfied: httpcore==1.* in c:\\users\\spscd\\appdata\\local\\programs\\python\\python313\\lib\\site-packages (from httpx>=0.25.0->jupyterlab<4.4,>=4.3.6->notebook) (1.0.7)\n",
            "Requirement already satisfied: h11<0.15,>=0.13 in c:\\users\\spscd\\appdata\\local\\programs\\python\\python313\\lib\\site-packages (from httpcore==1.*->httpx>=0.25.0->jupyterlab<4.4,>=4.3.6->notebook) (0.14.0)\n",
            "Requirement already satisfied: debugpy>=1.6.5 in c:\\users\\spscd\\appdata\\roaming\\python\\python313\\site-packages (from ipykernel>=6.5.0->jupyterlab<4.4,>=4.3.6->notebook) (1.8.13)\n",
            "Requirement already satisfied: nest-asyncio in c:\\users\\spscd\\appdata\\roaming\\python\\python313\\site-packages (from ipykernel>=6.5.0->jupyterlab<4.4,>=4.3.6->notebook) (1.6.0)\n",
            "Requirement already satisfied: psutil in c:\\users\\spscd\\appdata\\roaming\\python\\python313\\site-packages (from ipykernel>=6.5.0->jupyterlab<4.4,>=4.3.6->notebook) (7.0.0)\n",
            "Requirement already satisfied: parso<0.9.0,>=0.8.4 in c:\\users\\spscd\\appdata\\roaming\\python\\python313\\site-packages (from jedi>=0.16->ipython>=6.1.0->ipywidgets) (0.8.4)\n",
            "Requirement already satisfied: MarkupSafe>=2.0 in c:\\users\\spscd\\appdata\\local\\programs\\python\\python313\\lib\\site-packages (from jinja2>=3.0.3->jupyter-server<3,>=2.4.0->notebook) (3.0.2)\n",
            "Requirement already satisfied: attrs>=22.2.0 in c:\\users\\spscd\\appdata\\local\\programs\\python\\python313\\lib\\site-packages (from jsonschema>=4.18.0->jupyterlab-server<3,>=2.27.1->notebook) (25.3.0)\n",
            "Requirement already satisfied: jsonschema-specifications>=2023.03.6 in c:\\users\\spscd\\appdata\\local\\programs\\python\\python313\\lib\\site-packages (from jsonschema>=4.18.0->jupyterlab-server<3,>=2.27.1->notebook) (2024.10.1)\n",
            "Requirement already satisfied: referencing>=0.28.4 in c:\\users\\spscd\\appdata\\local\\programs\\python\\python313\\lib\\site-packages (from jsonschema>=4.18.0->jupyterlab-server<3,>=2.27.1->notebook) (0.36.2)\n",
            "Requirement already satisfied: rpds-py>=0.7.1 in c:\\users\\spscd\\appdata\\local\\programs\\python\\python313\\lib\\site-packages (from jsonschema>=4.18.0->jupyterlab-server<3,>=2.27.1->notebook) (0.24.0)\n",
            "Requirement already satisfied: python-dateutil>=2.8.2 in c:\\users\\spscd\\appdata\\roaming\\python\\python313\\site-packages (from jupyter-client>=7.4.4->jupyter-server<3,>=2.4.0->notebook) (2.9.0.post0)\n",
            "Requirement already satisfied: platformdirs>=2.5 in c:\\users\\spscd\\appdata\\roaming\\python\\python313\\site-packages (from jupyter-core!=5.0.*,>=4.12->jupyter-server<3,>=2.4.0->notebook) (4.3.7)\n",
            "Requirement already satisfied: pywin32>=300 in c:\\users\\spscd\\appdata\\roaming\\python\\python313\\site-packages (from jupyter-core!=5.0.*,>=4.12->jupyter-server<3,>=2.4.0->notebook) (310)\n",
            "Requirement already satisfied: python-json-logger>=2.0.4 in c:\\users\\spscd\\appdata\\local\\programs\\python\\python313\\lib\\site-packages (from jupyter-events>=0.11.0->jupyter-server<3,>=2.4.0->notebook) (3.3.0)\n",
            "Requirement already satisfied: pyyaml>=5.3 in c:\\users\\spscd\\appdata\\local\\programs\\python\\python313\\lib\\site-packages (from jupyter-events>=0.11.0->jupyter-server<3,>=2.4.0->notebook) (6.0.2)\n",
            "Requirement already satisfied: rfc3339-validator in c:\\users\\spscd\\appdata\\local\\programs\\python\\python313\\lib\\site-packages (from jupyter-events>=0.11.0->jupyter-server<3,>=2.4.0->notebook) (0.1.4)\n",
            "Requirement already satisfied: rfc3986-validator>=0.1.1 in c:\\users\\spscd\\appdata\\local\\programs\\python\\python313\\lib\\site-packages (from jupyter-events>=0.11.0->jupyter-server<3,>=2.4.0->notebook) (0.1.1)\n",
            "Requirement already satisfied: beautifulsoup4 in c:\\users\\spscd\\appdata\\local\\programs\\python\\python313\\lib\\site-packages (from nbconvert>=6.4.4->jupyter-server<3,>=2.4.0->notebook) (4.13.3)\n",
            "Requirement already satisfied: bleach!=5.0.0 in c:\\users\\spscd\\appdata\\local\\programs\\python\\python313\\lib\\site-packages (from bleach[css]!=5.0.0->nbconvert>=6.4.4->jupyter-server<3,>=2.4.0->notebook) (6.2.0)\n",
            "Requirement already satisfied: defusedxml in c:\\users\\spscd\\appdata\\local\\programs\\python\\python313\\lib\\site-packages (from nbconvert>=6.4.4->jupyter-server<3,>=2.4.0->notebook) (0.7.1)\n",
            "Requirement already satisfied: jupyterlab-pygments in c:\\users\\spscd\\appdata\\local\\programs\\python\\python313\\lib\\site-packages (from nbconvert>=6.4.4->jupyter-server<3,>=2.4.0->notebook) (0.3.0)\n",
            "Requirement already satisfied: mistune<4,>=2.0.3 in c:\\users\\spscd\\appdata\\local\\programs\\python\\python313\\lib\\site-packages (from nbconvert>=6.4.4->jupyter-server<3,>=2.4.0->notebook) (3.1.3)\n",
            "Requirement already satisfied: nbclient>=0.5.0 in c:\\users\\spscd\\appdata\\local\\programs\\python\\python313\\lib\\site-packages (from nbconvert>=6.4.4->jupyter-server<3,>=2.4.0->notebook) (0.10.2)\n",
            "Requirement already satisfied: pandocfilters>=1.4.1 in c:\\users\\spscd\\appdata\\local\\programs\\python\\python313\\lib\\site-packages (from nbconvert>=6.4.4->jupyter-server<3,>=2.4.0->notebook) (1.5.1)\n",
            "Requirement already satisfied: fastjsonschema>=2.15 in c:\\users\\spscd\\appdata\\local\\programs\\python\\python313\\lib\\site-packages (from nbformat>=5.3.0->jupyter-server<3,>=2.4.0->notebook) (2.21.1)\n",
            "Requirement already satisfied: wcwidth in c:\\users\\spscd\\appdata\\roaming\\python\\python313\\site-packages (from prompt_toolkit<3.1.0,>=3.0.41->ipython>=6.1.0->ipywidgets) (0.2.13)\n",
            "Requirement already satisfied: charset-normalizer<4,>=2 in c:\\users\\spscd\\appdata\\local\\programs\\python\\python313\\lib\\site-packages (from requests>=2.31->jupyterlab-server<3,>=2.27.1->notebook) (3.4.1)\n",
            "Requirement already satisfied: urllib3<3,>=1.21.1 in c:\\users\\spscd\\appdata\\local\\programs\\python\\python313\\lib\\site-packages (from requests>=2.31->jupyterlab-server<3,>=2.27.1->notebook) (2.3.0)\n",
            "Requirement already satisfied: executing>=1.2.0 in c:\\users\\spscd\\appdata\\roaming\\python\\python313\\site-packages (from stack_data->ipython>=6.1.0->ipywidgets) (2.2.0)\n",
            "Requirement already satisfied: asttokens>=2.1.0 in c:\\users\\spscd\\appdata\\roaming\\python\\python313\\site-packages (from stack_data->ipython>=6.1.0->ipywidgets) (3.0.0)\n",
            "Requirement already satisfied: pure-eval in c:\\users\\spscd\\appdata\\roaming\\python\\python313\\site-packages (from stack_data->ipython>=6.1.0->ipywidgets) (0.2.3)\n",
            "Requirement already satisfied: webencodings in c:\\users\\spscd\\appdata\\local\\programs\\python\\python313\\lib\\site-packages (from bleach!=5.0.0->bleach[css]!=5.0.0->nbconvert>=6.4.4->jupyter-server<3,>=2.4.0->notebook) (0.5.1)\n",
            "Requirement already satisfied: tinycss2<1.5,>=1.1.0 in c:\\users\\spscd\\appdata\\local\\programs\\python\\python313\\lib\\site-packages (from bleach[css]!=5.0.0->nbconvert>=6.4.4->jupyter-server<3,>=2.4.0->notebook) (1.4.0)\n",
            "Requirement already satisfied: fqdn in c:\\users\\spscd\\appdata\\local\\programs\\python\\python313\\lib\\site-packages (from jsonschema[format-nongpl]>=4.18.0->jupyter-events>=0.11.0->jupyter-server<3,>=2.4.0->notebook) (1.5.1)\n",
            "Requirement already satisfied: isoduration in c:\\users\\spscd\\appdata\\local\\programs\\python\\python313\\lib\\site-packages (from jsonschema[format-nongpl]>=4.18.0->jupyter-events>=0.11.0->jupyter-server<3,>=2.4.0->notebook) (20.11.0)\n",
            "Requirement already satisfied: jsonpointer>1.13 in c:\\users\\spscd\\appdata\\local\\programs\\python\\python313\\lib\\site-packages (from jsonschema[format-nongpl]>=4.18.0->jupyter-events>=0.11.0->jupyter-server<3,>=2.4.0->notebook) (3.0.0)\n",
            "Requirement already satisfied: uri-template in c:\\users\\spscd\\appdata\\local\\programs\\python\\python313\\lib\\site-packages (from jsonschema[format-nongpl]>=4.18.0->jupyter-events>=0.11.0->jupyter-server<3,>=2.4.0->notebook) (1.3.0)\n",
            "Requirement already satisfied: webcolors>=24.6.0 in c:\\users\\spscd\\appdata\\local\\programs\\python\\python313\\lib\\site-packages (from jsonschema[format-nongpl]>=4.18.0->jupyter-events>=0.11.0->jupyter-server<3,>=2.4.0->notebook) (24.11.1)\n",
            "Requirement already satisfied: six>=1.5 in c:\\users\\spscd\\appdata\\roaming\\python\\python313\\site-packages (from python-dateutil>=2.8.2->jupyter-client>=7.4.4->jupyter-server<3,>=2.4.0->notebook) (1.17.0)\n",
            "Requirement already satisfied: cffi>=1.0.1 in c:\\users\\spscd\\appdata\\local\\programs\\python\\python313\\lib\\site-packages (from argon2-cffi-bindings->argon2-cffi>=21.1->jupyter-server<3,>=2.4.0->notebook) (1.17.1)\n",
            "Requirement already satisfied: soupsieve>1.2 in c:\\users\\spscd\\appdata\\local\\programs\\python\\python313\\lib\\site-packages (from beautifulsoup4->nbconvert>=6.4.4->jupyter-server<3,>=2.4.0->notebook) (2.6)\n",
            "Requirement already satisfied: typing-extensions>=4.0.0 in c:\\users\\spscd\\appdata\\local\\programs\\python\\python313\\lib\\site-packages (from beautifulsoup4->nbconvert>=6.4.4->jupyter-server<3,>=2.4.0->notebook) (4.13.0)\n",
            "Requirement already satisfied: pycparser in c:\\users\\spscd\\appdata\\local\\programs\\python\\python313\\lib\\site-packages (from cffi>=1.0.1->argon2-cffi-bindings->argon2-cffi>=21.1->jupyter-server<3,>=2.4.0->notebook) (2.22)\n",
            "Requirement already satisfied: arrow>=0.15.0 in c:\\users\\spscd\\appdata\\local\\programs\\python\\python313\\lib\\site-packages (from isoduration->jsonschema[format-nongpl]>=4.18.0->jupyter-events>=0.11.0->jupyter-server<3,>=2.4.0->notebook) (1.3.0)\n",
            "Requirement already satisfied: types-python-dateutil>=2.8.10 in c:\\users\\spscd\\appdata\\local\\programs\\python\\python313\\lib\\site-packages (from arrow>=0.15.0->isoduration->jsonschema[format-nongpl]>=4.18.0->jupyter-events>=0.11.0->jupyter-server<3,>=2.4.0->notebook) (2.9.0.20241206)\n",
            "Note: you may need to restart the kernel to use updated packages.\n",
            "Requirement already satisfied: accelerate>=0.26.0 in c:\\users\\spscd\\appdata\\local\\programs\\python\\python313\\lib\\site-packages (1.6.0)\n",
            "Requirement already satisfied: numpy<3.0.0,>=1.17 in c:\\users\\spscd\\appdata\\local\\programs\\python\\python313\\lib\\site-packages (from accelerate>=0.26.0) (2.1.3)\n",
            "Requirement already satisfied: packaging>=20.0 in c:\\users\\spscd\\appdata\\roaming\\python\\python313\\site-packages (from accelerate>=0.26.0) (24.2)\n",
            "Requirement already satisfied: psutil in c:\\users\\spscd\\appdata\\roaming\\python\\python313\\site-packages (from accelerate>=0.26.0) (7.0.0)\n",
            "Requirement already satisfied: pyyaml in c:\\users\\spscd\\appdata\\local\\programs\\python\\python313\\lib\\site-packages (from accelerate>=0.26.0) (6.0.2)\n",
            "Requirement already satisfied: torch>=2.0.0 in c:\\users\\spscd\\appdata\\local\\programs\\python\\python313\\lib\\site-packages (from accelerate>=0.26.0) (2.6.0)\n",
            "Requirement already satisfied: huggingface-hub>=0.21.0 in c:\\users\\spscd\\appdata\\local\\programs\\python\\python313\\lib\\site-packages (from accelerate>=0.26.0) (0.30.1)\n",
            "Requirement already satisfied: safetensors>=0.4.3 in c:\\users\\spscd\\appdata\\local\\programs\\python\\python313\\lib\\site-packages (from accelerate>=0.26.0) (0.5.3)\n",
            "Requirement already satisfied: filelock in c:\\users\\spscd\\appdata\\local\\programs\\python\\python313\\lib\\site-packages (from huggingface-hub>=0.21.0->accelerate>=0.26.0) (3.18.0)\n",
            "Requirement already satisfied: fsspec>=2023.5.0 in c:\\users\\spscd\\appdata\\local\\programs\\python\\python313\\lib\\site-packages (from huggingface-hub>=0.21.0->accelerate>=0.26.0) (2024.12.0)\n",
            "Requirement already satisfied: requests in c:\\users\\spscd\\appdata\\local\\programs\\python\\python313\\lib\\site-packages (from huggingface-hub>=0.21.0->accelerate>=0.26.0) (2.32.3)\n",
            "Requirement already satisfied: tqdm>=4.42.1 in c:\\users\\spscd\\appdata\\local\\programs\\python\\python313\\lib\\site-packages (from huggingface-hub>=0.21.0->accelerate>=0.26.0) (4.67.1)\n",
            "Requirement already satisfied: typing-extensions>=3.7.4.3 in c:\\users\\spscd\\appdata\\local\\programs\\python\\python313\\lib\\site-packages (from huggingface-hub>=0.21.0->accelerate>=0.26.0) (4.13.0)\n",
            "Requirement already satisfied: networkx in c:\\users\\spscd\\appdata\\local\\programs\\python\\python313\\lib\\site-packages (from torch>=2.0.0->accelerate>=0.26.0) (3.4.2)\n",
            "Requirement already satisfied: jinja2 in c:\\users\\spscd\\appdata\\local\\programs\\python\\python313\\lib\\site-packages (from torch>=2.0.0->accelerate>=0.26.0) (3.1.6)\n",
            "Requirement already satisfied: setuptools in c:\\users\\spscd\\appdata\\local\\programs\\python\\python313\\lib\\site-packages (from torch>=2.0.0->accelerate>=0.26.0) (78.1.0)\n",
            "Requirement already satisfied: sympy==1.13.1 in c:\\users\\spscd\\appdata\\local\\programs\\python\\python313\\lib\\site-packages (from torch>=2.0.0->accelerate>=0.26.0) (1.13.1)\n",
            "Requirement already satisfied: mpmath<1.4,>=1.1.0 in c:\\users\\spscd\\appdata\\local\\programs\\python\\python313\\lib\\site-packages (from sympy==1.13.1->torch>=2.0.0->accelerate>=0.26.0) (1.3.0)\n",
            "Requirement already satisfied: colorama in c:\\users\\spscd\\appdata\\roaming\\python\\python313\\site-packages (from tqdm>=4.42.1->huggingface-hub>=0.21.0->accelerate>=0.26.0) (0.4.6)\n",
            "Requirement already satisfied: MarkupSafe>=2.0 in c:\\users\\spscd\\appdata\\local\\programs\\python\\python313\\lib\\site-packages (from jinja2->torch>=2.0.0->accelerate>=0.26.0) (3.0.2)\n",
            "Requirement already satisfied: charset-normalizer<4,>=2 in c:\\users\\spscd\\appdata\\local\\programs\\python\\python313\\lib\\site-packages (from requests->huggingface-hub>=0.21.0->accelerate>=0.26.0) (3.4.1)\n",
            "Requirement already satisfied: idna<4,>=2.5 in c:\\users\\spscd\\appdata\\local\\programs\\python\\python313\\lib\\site-packages (from requests->huggingface-hub>=0.21.0->accelerate>=0.26.0) (3.10)\n",
            "Requirement already satisfied: urllib3<3,>=1.21.1 in c:\\users\\spscd\\appdata\\local\\programs\\python\\python313\\lib\\site-packages (from requests->huggingface-hub>=0.21.0->accelerate>=0.26.0) (2.3.0)\n",
            "Requirement already satisfied: certifi>=2017.4.17 in c:\\users\\spscd\\appdata\\local\\programs\\python\\python313\\lib\\site-packages (from requests->huggingface-hub>=0.21.0->accelerate>=0.26.0) (2025.1.31)\n",
            "Note: you may need to restart the kernel to use updated packages.\n"
          ]
        },
        {
          "name": "stderr",
          "output_type": "stream",
          "text": [
            "usage: jupyter [-h] [--version] [--config-dir] [--data-dir] [--runtime-dir]\n",
            "               [--paths] [--json] [--debug]\n",
            "               [subcommand]\n",
            "\n",
            "Jupyter: Interactive Computing\n",
            "\n",
            "positional arguments:\n",
            "  subcommand     the subcommand to launch\n",
            "\n",
            "options:\n",
            "  -h, --help     show this help message and exit\n",
            "  --version      show the versions of core jupyter packages and exit\n",
            "  --config-dir   show Jupyter config dir\n",
            "  --data-dir     show Jupyter data dir\n",
            "  --runtime-dir  show Jupyter runtime dir\n",
            "  --paths        show all Jupyter paths. Add --json for machine-readable\n",
            "                 format.\n",
            "  --json         output paths as machine-readable json\n",
            "  --debug        output debug information about paths\n",
            "\n",
            "Available subcommands: dejavu events execute kernel kernelspec lab\n",
            "labextension labhub migrate nbconvert notebook run server troubleshoot trust\n",
            "\n",
            "Jupyter command `jupyter-nbextension` not found.\n"
          ]
        }
      ],
      "source": [
        "\n",
        "%pip install --upgrade pip\n",
        "%pip install python-dotenv jq gdown\n",
        "%pip install langchain langchain_openai langchain_community\n",
        "%pip install scikit-learn pandas numpy dask datasets docarray\n",
        "%pip install bertopic[all]\n",
        "%pip install --upgrade ipywidgets notebook\n",
        "%pip install \"accelerate>=0.26.0\"\n",
        "!jupyter nbextension enable --py widgetsnbextension --sys-prefix\n",
        "\n",
        "\n",
        "\n",
        "\n",
        "\n"
      ]
    },
    {
      "cell_type": "code",
      "execution_count": 2,
      "metadata": {},
      "outputs": [
        {
          "name": "stdout",
          "output_type": "stream",
          "text": [
            "All packages imported successfully!\n"
          ]
        }
      ],
      "source": [
        "import os\n",
        "import pandas as pd\n",
        "import numpy as np\n",
        "import dask.dataframe as dd\n",
        "import gdown\n",
        "import sklearn\n",
        "import langchain\n",
        "import datasets\n",
        "import docarray\n",
        "from bertopic import BERTopic\n",
        "from sentence_transformers import SentenceTransformer\n",
        "\n",
        "print(\"All packages imported successfully!\")\n",
        "\n"
      ]
    },
    {
      "cell_type": "code",
      "execution_count": 3,
      "metadata": {
        "colab": {
          "base_uri": "https://localhost:8080/"
        },
        "id": "6e-EXUh9UqFV",
        "outputId": "43138316-49e2-4885-8b51-2c3058bbdcc5"
      },
      "outputs": [],
      "source": [
        "# Mount Google Drive (For Colab Users)\n",
        "#from google.colab import drive\n",
        "#drive.mount('/content/drive')\n"
      ]
    },
    {
      "cell_type": "code",
      "execution_count": 4,
      "metadata": {
        "colab": {
          "base_uri": "https://localhost:8080/",
          "height": 126
        },
        "id": "iWNpu5nWUwHc",
        "outputId": "16943f7c-97ad-4272-969d-5c02b7b04a3c"
      },
      "outputs": [
        {
          "name": "stderr",
          "output_type": "stream",
          "text": [
            "Downloading...\n",
            "From (original): https://drive.google.com/uc?export=download&id=14GcJAzyN2PFg2JuyzF0pRmxlMmimrz9o\n",
            "From (redirected): https://drive.google.com/uc?export=download&id=14GcJAzyN2PFg2JuyzF0pRmxlMmimrz9o&confirm=t&uuid=a5f12988-8b5c-4415-8b08-4133854d0c0d\n",
            "To: c:\\Users\\spscd\\OneDrive\\Desktop\\AmazonHomeKitchenReviews.csv\n",
            "100%|\u2588\u2588\u2588\u2588\u2588\u2588\u2588\u2588\u2588\u2588| 692M/692M [00:13<00:00, 52.9MB/s] \n"
          ]
        },
        {
          "data": {
            "text/plain": [
              "'AmazonHomeKitchenReviews.csv'"
            ]
          },
          "execution_count": 4,
          "metadata": {},
          "output_type": "execute_result"
        }
      ],
      "source": [
        "amazonhkdatasetfileid = '14GcJAzyN2PFg2JuyzF0pRmxlMmimrz9o'\n",
        "amazonhkdatasetfilename = 'AmazonHomeKitchenReviews.csv'\n",
        "\n",
        "url = f\"https://drive.google.com/uc?export=download&id={amazonhkdatasetfileid}\"\n",
        "\n",
        "gdown.download(url,amazonhkdatasetfilename, quiet=False)\n"
      ]
    },
    {
      "cell_type": "markdown",
      "metadata": {
        "id": "pwdcecevIGaQ"
      },
      "source": [
        "* Read the dataset csv  into dataframes"
      ]
    },
    {
      "cell_type": "code",
      "execution_count": 5,
      "metadata": {
        "id": "g4fJmLTvVwP6"
      },
      "outputs": [],
      "source": [
        "df_data = pd.read_csv(amazonhkdatasetfilename)\n"
      ]
    },
    {
      "cell_type": "code",
      "execution_count": 6,
      "metadata": {
        "colab": {
          "base_uri": "https://localhost:8080/"
        },
        "id": "IYsYZ1aEvgOZ",
        "outputId": "c24984a6-be45-46d5-8ade-d3f4149c978f"
      },
      "outputs": [
        {
          "name": "stdout",
          "output_type": "stream",
          "text": [
            "754079\n"
          ]
        }
      ],
      "source": [
        "print(len(df_data))"
      ]
    },
    {
      "cell_type": "code",
      "execution_count": 7,
      "metadata": {
        "colab": {
          "base_uri": "https://localhost:8080/"
        },
        "id": "fD_E-0W3vuBK",
        "outputId": "7e9b8b15-2677-4ff4-9771-6b6e0c13334d"
      },
      "outputs": [
        {
          "name": "stdout",
          "output_type": "stream",
          "text": [
            "<class 'pandas.core.frame.DataFrame'>\n",
            "RangeIndex: 754079 entries, 0 to 754078\n",
            "Data columns (total 18 columns):\n",
            " #   Column             Non-Null Count   Dtype  \n",
            "---  ------             --------------   -----  \n",
            " 0   Unnamed: 0         754079 non-null  int64  \n",
            " 1   rating             754079 non-null  int64  \n",
            " 2   title_x            753916 non-null  object \n",
            " 3   text               753888 non-null  object \n",
            " 4   images             754079 non-null  object \n",
            " 5   asin               754079 non-null  object \n",
            " 6   parent_asin        754079 non-null  object \n",
            " 7   user_id            754079 non-null  object \n",
            " 8   timestamp          754079 non-null  object \n",
            " 9   helpful_vote       754079 non-null  int64  \n",
            " 10  verified_purchase  754079 non-null  bool   \n",
            " 11  title_y            754079 non-null  object \n",
            " 12  description        754079 non-null  object \n",
            " 13  price              754079 non-null  float64\n",
            " 14  Brand              754077 non-null  object \n",
            " 15  Material           754079 non-null  object \n",
            " 16  Color              754079 non-null  object \n",
            " 17  categories         754079 non-null  object \n",
            "dtypes: bool(1), float64(1), int64(3), object(13)\n",
            "memory usage: 98.5+ MB\n"
          ]
        }
      ],
      "source": [
        "df_data.info()"
      ]
    },
    {
      "cell_type": "code",
      "execution_count": 8,
      "metadata": {
        "id": "kMOXE2hUXrhm"
      },
      "outputs": [],
      "source": [
        "#reduce the dataset to 10000 records\n",
        "#df_data = df_data.head(10000)"
      ]
    },
    {
      "cell_type": "markdown",
      "metadata": {
        "id": "pPBfEocwH45Y"
      },
      "source": [
        "\n",
        "\n",
        "*   Analyse the datasets\n",
        "*  Check total number of unique products and the review counts\n",
        "\n",
        "\n"
      ]
    },
    {
      "cell_type": "code",
      "execution_count": 9,
      "metadata": {
        "colab": {
          "base_uri": "https://localhost:8080/"
        },
        "id": "fOuYG18eWFZx",
        "outputId": "667bf836-51d7-47a3-a94e-da3d9c5437e5"
      },
      "outputs": [
        {
          "name": "stdout",
          "output_type": "stream",
          "text": [
            "Index(['Unnamed: 0', 'rating', 'review_title', 'review_text', 'images', 'asin',\n",
            "       'parent_asin', 'user_id', 'timestamp', 'helpful_vote',\n",
            "       'verified_purchase', 'product_title', 'description', 'price', 'Brand',\n",
            "       'Material', 'Color', 'categories'],\n",
            "      dtype='object')\n"
          ]
        }
      ],
      "source": [
        "df_renamed = df_data.rename(columns={'title_y' : 'product_title','title_x':'review_title','text':'review_text'})\n",
        "df_renamed.groupby('product_title').size().sort_values(ascending=False).head(5)\n",
        "print(df_renamed.columns)"
      ]
    },
    {
      "cell_type": "markdown",
      "metadata": {
        "id": "QyMt9EY-bAC-"
      },
      "source": [
        "* Pre-processing\n",
        "* X = review_title,review_text\n",
        "* y = rating"
      ]
    },
    {
      "cell_type": "code",
      "execution_count": 10,
      "metadata": {
        "colab": {
          "base_uri": "https://localhost:8080/"
        },
        "id": "d1wMXzhVbgAG",
        "outputId": "e0fa1a8c-92df-4772-b8f6-01c3c08a7743"
      },
      "outputs": [
        {
          "name": "stdout",
          "output_type": "stream",
          "text": [
            "price\n",
            "19.99      25494\n",
            "14.99      23353\n",
            "29.99      21455\n",
            "24.99      21141\n",
            "34.97      20431\n",
            "           ...  \n",
            "651.68         1\n",
            "2665.48        1\n",
            "1015.16        1\n",
            "799.00         1\n",
            "795.00         1\n",
            "Name: count, Length: 3013, dtype: int64\n"
          ]
        }
      ],
      "source": [
        "print(df_renamed.value_counts('price'))\n",
        "\n",
        "\n"
      ]
    },
    {
      "cell_type": "code",
      "execution_count": 11,
      "metadata": {
        "id": "fSzlbyLIwklE"
      },
      "outputs": [],
      "source": [
        "qa_pairs = []\n",
        "for index , row in df_renamed.iterrows():\n",
        "  context = str(row['review_title']) + \". \" + str(row[\"review_text\"]) + \" \" + \"$\" + str(row['price']) + \". \" + str(row['rating']) +\" \" +  str(row['product_title'])\n",
        "  #print(context\n",
        "\n",
        "    # Generate questions about user rating only if rating is not null\n",
        "  if not pd.isna(row['rating']):\n",
        "        qa_pairs.append({\n",
        "            'context': context,\n",
        "            'question': f\"What was the average rating for product{str(row['product_title'])}?\",\n",
        "          #  'answer' : str(row['rating'])\n",
        "            'answer': {'text': str(row['rating']), 'answer_start': context.find(str(row['rating'])) if str(row['rating']) in context else 0}\n",
        "\n",
        "        })\n",
        "\n",
        "        # Question about why they gave that rating\n",
        "        qa_pairs.append({\n",
        "            'context': context,\n",
        "            'question': f\"Why did the customer rate this product {str(row['rating'])} stars?\",\n",
        "             'answer': {'text': context[:150], 'answer_start': 0}\n",
        "        })\n",
        "\n"
      ]
    },
    {
      "cell_type": "code",
      "execution_count": 12,
      "metadata": {
        "colab": {
          "base_uri": "https://localhost:8080/"
        },
        "id": "7B4Q924a1Nlw",
        "outputId": "2bef6ad1-0fcf-490e-bafb-0792574d148d"
      },
      "outputs": [
        {
          "name": "stdout",
          "output_type": "stream",
          "text": [
            "[{'context': 'Pretty colors available. Nice thin placemats of good size. Can be used also as table doilies. $16.99. 5 SHACOS Round Braided Placemats Set of 6 Round Table Mats for Dining Tables 15 inch Washable Non Slip Placemats (Pink, 6)', 'question': 'Why did the customer rate this product 5 stars?', 'answer': {'text': 'Pretty colors available. Nice thin placemats of good size. Can be used also as table doilies. $16.99. 5 SHACOS Round Braided Placemats Set of 6 Round ', 'answer_start': 0}}, {'context': 'Nice material. Very pretty, wish they came bigger $6.92. 4 PaperLanternStore.com 7 Inch Bloom Shaped Handmade Cotton Crochet Doilies - Beige (2 PACK)', 'question': 'What was the average rating for productPaperLanternStore.com 7 Inch Bloom Shaped Handmade Cotton Crochet Doilies - Beige (2 PACK)?', 'answer': {'text': '4', 'answer_start': 57}}, {'context': 'Nice material. Very pretty, wish they came bigger $6.92. 4 PaperLanternStore.com 7 Inch Bloom Shaped Handmade Cotton Crochet Doilies - Beige (2 PACK)', 'question': 'Why did the customer rate this product 4 stars?', 'answer': {'text': 'Nice material. Very pretty, wish they came bigger $6.92. 4 PaperLanternStore.com 7 Inch Bloom Shaped Handmade Cotton Crochet Doilies - Beige (2 PACK)', 'answer_start': 0}}, {'context': 'Love the zipper!. The red is a deeper red rather than a bright red. Not as shiny as the polyester satin ones. Love the zipper enclosure since it\u2019s a slippery material, the pillows won\u2019t come out. $29.99. 4 YANIBEST Silk Pillowcase for Hair and Skin 22 Momme 600 Thread Count 100% Mulberry Silk Bed Pillowcase with Hidden Zipper, 1 Pack Standard Size Pillow Case Grey', 'question': 'What was the average rating for productYANIBEST Silk Pillowcase for Hair and Skin 22 Momme 600 Thread Count 100% Mulberry Silk Bed Pillowcase with Hidden Zipper, 1 Pack Standard Size Pillow Case Grey?', 'answer': {'text': '4', 'answer_start': 204}}, {'context': 'Love the zipper!. The red is a deeper red rather than a bright red. Not as shiny as the polyester satin ones. Love the zipper enclosure since it\u2019s a slippery material, the pillows won\u2019t come out. $29.99. 4 YANIBEST Silk Pillowcase for Hair and Skin 22 Momme 600 Thread Count 100% Mulberry Silk Bed Pillowcase with Hidden Zipper, 1 Pack Standard Size Pillow Case Grey', 'question': 'Why did the customer rate this product 4 stars?', 'answer': {'text': 'Love the zipper!. The red is a deeper red rather than a bright red. Not as shiny as the polyester satin ones. Love the zipper enclosure since it\u2019s a s', 'answer_start': 0}}, {'context': 'Five Stars. Love the darl gray color. Fit is great on a tall mattress. Well made. $14.99. 5 Fitted Bottom Sheet Full Size - Premium 1800 Microfiber - Ultra-Soft Hotel Luxury - Deep Pocket - Durable and Long Lasting - Full Fitted Sheet (Full, Sand)', 'question': 'What was the average rating for productFitted Bottom Sheet Full Size - Premium 1800 Microfiber - Ultra-Soft Hotel Luxury - Deep Pocket - Durable and Long Lasting - Full Fitted Sheet (Full, Sand)?', 'answer': {'text': '5', 'answer_start': 90}}, {'context': 'Five Stars. Love the darl gray color. Fit is great on a tall mattress. Well made. $14.99. 5 Fitted Bottom Sheet Full Size - Premium 1800 Microfiber - Ultra-Soft Hotel Luxury - Deep Pocket - Durable and Long Lasting - Full Fitted Sheet (Full, Sand)', 'question': 'Why did the customer rate this product 5 stars?', 'answer': {'text': 'Five Stars. Love the darl gray color. Fit is great on a tall mattress. Well made. $14.99. 5 Fitted Bottom Sheet Full Size - Premium 1800 Microfiber - ', 'answer_start': 0}}]\n"
          ]
        }
      ],
      "source": [
        "print(qa_pairs[5:12])"
      ]
    },
    {
      "cell_type": "code",
      "execution_count": 13,
      "metadata": {
        "colab": {
          "base_uri": "https://localhost:8080/"
        },
        "id": "6WPD_Sin2hcC",
        "outputId": "94a20271-3705-48ba-ba79-df5d12892886"
      },
      "outputs": [
        {
          "name": "stderr",
          "output_type": "stream",
          "text": [
            "Device set to use cpu\n"
          ]
        }
      ],
      "source": [
        "from transformers import pipeline\n",
        "\n",
        "question_answerer = pipeline(\"question-answering\", model='distilbert-base-uncased-distilled-squad')"
      ]
    },
    {
      "cell_type": "code",
      "execution_count": 14,
      "metadata": {
        "colab": {
          "base_uri": "https://localhost:8080/"
        },
        "id": "P7g6Uqzz2mtA",
        "outputId": "22ea25ec-0929-4c17-9d76-c08147beb2ae"
      },
      "outputs": [
        {
          "name": "stdout",
          "output_type": "stream",
          "text": [
            "Answer: '$31.99. 3', score: 0.077, start: 211, end: 220\n"
          ]
        }
      ],
      "source": [
        "result = question_answerer(question=\"What is the average rating for dinner mugs\", context=context)\n",
        "print(f\"Answer: '{result['answer']}', score: {round(result['score'], 4)}, start: {result['start']}, end: {result['end']}\")"
      ]
    },
    {
      "cell_type": "code",
      "execution_count": 15,
      "metadata": {
        "colab": {
          "base_uri": "https://localhost:8080/"
        },
        "id": "-y7V8myw6H4S",
        "outputId": "df34f2d5-9e7a-4e96-a88e-7eb99d7c1a2b"
      },
      "outputs": [
        {
          "name": "stdout",
          "output_type": "stream",
          "text": [
            "Answer: 'I wouldn't buy them for my home or for frequent use', score: 0.1069, start: 158, end: 209\n"
          ]
        }
      ],
      "source": [
        "result = question_answerer(question=\"What are customer saying about dinner mug\", context=context)\n",
        "print(f\"Answer: '{result['answer']}', score: {round(result['score'], 4)}, start: {result['start']}, end: {result['end']}\")"
      ]
    },
    {
      "cell_type": "markdown",
      "metadata": {
        "id": "z6S5fijj7cU8"
      },
      "source": [
        "\n",
        "\n",
        "* Load the QA dataset\n",
        "* Split the dataset for train test\n",
        "\n",
        "\n"
      ]
    },
    {
      "cell_type": "code",
      "execution_count": 16,
      "metadata": {
        "colab": {
          "base_uri": "https://localhost:8080/"
        },
        "id": "UhlYCM3C5zXX",
        "outputId": "cb197a45-edb5-499c-9e2a-a3b1d23e66ac"
      },
      "outputs": [
        {
          "name": "stdout",
          "output_type": "stream",
          "text": [
            "dict_keys(['train', 'test'])\n",
            "{'context': 'AMAZING ADDITION. Great size, really extra big inside and yet not taking up anymore standing room than a regular can.  Love the way it opens immediately when you approach it which is very helpful when your hands are messy from cooking or too full to open it.  Also very attractive in the kitchen.  Itdoes not leave finger prints if you do touch it, another plus. $80.44. 5 iTouchless 13 Gallon Pet-Proof Sensor Trash Can with AbsorbX Odor Filter Kitchen Garbage Bin Prevents Dogs & Cats Opening Lid, Plus, Stainless Steel with PetGuard', 'question': 'What was the average rating for productiTouchless 13 Gallon Pet-Proof Sensor Trash Can with AbsorbX Odor Filter Kitchen Garbage Bin Prevents Dogs & Cats Opening Lid, Plus, Stainless Steel with PetGuard?', 'answer': {'answer_start': 371, 'text': '5'}}\n"
          ]
        }
      ],
      "source": [
        "from datasets import Dataset\n",
        "\n",
        "dataset = Dataset.from_list(qa_pairs)\n",
        "dataset = dataset.train_test_split(test_size=0.2)\n",
        "\n",
        "print(dataset.keys())\n",
        "print(dataset['train'][0])\n"
      ]
    },
    {
      "cell_type": "markdown",
      "metadata": {
        "id": "xBok-aSMIpt-"
      },
      "source": []
    },
    {
      "cell_type": "markdown",
      "metadata": {
        "id": "zVOa9gBG8ari"
      },
      "source": [
        "* Tokenize the dataset"
      ]
    },
    {
      "cell_type": "code",
      "execution_count": 17,
      "metadata": {
        "colab": {
          "base_uri": "https://localhost:8080/",
          "height": 145,
          "referenced_widgets": [
            "38762017c3a5499fb1e37f005c387946",
            "3fb0cc7e0a0a49508b10b2b2d2edcfad",
            "6dfe1b68afb44738a7ea20d78fe37165",
            "1753b256bf9e4d2c831ce515302fcefb",
            "ef30c33a6d9c4d5eb8d49ca48807087e",
            "dfc6c3ea6dbc4e91b5d7d77f3503a07f",
            "5a18c3b102554442bdce13a759f89afb",
            "485ca5dd13594771974c66466fcc3d4c",
            "3eda352c1b9a46c3b16e4c90b11f7fc6",
            "df54bdc76783435aa5d178e562571325",
            "485a03c712364cfe882a8c3f068ea11a",
            "f27e1d7ca899485f8ce27d5d10bc413e",
            "c7ad685e3b204507b63e55e1784e3a6d",
            "8c98e56a476f4925a4de5d0d4ace2dba",
            "2f111006ae594ba6b502c09c095a9919",
            "9bbed41accc04beb84b911347e542163",
            "bf5e863bdc4b44a8a01ceb03075255d4",
            "d9a684ee32b54972ab189bdaade28f5a",
            "d92104f539ec48e5aad9a04929dfedbe",
            "d5eb0a0f8e944372bedf5dd70782362f",
            "c7ee49b534c14e0586920ed5f1035f12",
            "e6bd5ba59c40400b800a3a128b7ebe57",
            "e9352707445040e09483003f7a49b917",
            "02f75cf0428b46abbb3cc9b57bda6b59",
            "b8d2ff8fe13b45daa33c77cfa9a233f6",
            "650e63e48cdb447e99619995c35395e9",
            "2c7a26d04cd44f2eba0e31bb71b5ef59",
            "480d73cf47684a8887c17b3f5689572a",
            "eacfee4511774600895912f6d6eba95e",
            "b8872576550b4ad3948aef97882c4d55",
            "e40219ca6cb34465b8bd2980951b2dc6",
            "5c82f718f88748aa8fc8208eeaacd3b1",
            "51ca760f91284d19bd0cf3538e7d6653",
            "4318c96e86b34544a8dcb678a82f8c88",
            "55d3c5d57ff74f15903cd8e669f1e80c",
            "0c8224dd680d49409a517b2d3e7ca405",
            "b64fa70cccf34091a974b2effae53c65",
            "376852e755ec416287700772b6e43edd",
            "05e426635b3f47f292a2e438eee342d1",
            "44f7a93d1256478da8111b3a0ebfec97",
            "8677b4dc39f84167a9a053ba14e9f810",
            "84a5423ca20b42d68940e7c9e4ec7154",
            "07b4355a48384b00a217a5cbd1803b6a",
            "b86edb8d499a4fcebf34485bd7e1ecee"
          ]
        },
        "id": "uc1YE6F98Wed",
        "outputId": "7f7b56e7-3a26-45d9-ab81-5b11b6157742"
      },
      "outputs": [],
      "source": [
        "from transformers import DistilBertTokenizerFast\n",
        "\n",
        "# Load the tokenizer\n",
        "tokenizer = DistilBertTokenizerFast.from_pretrained(\"distilbert-base-cased-distilled-squad\")\n",
        "\n",
        "# Function to tokenize and compute positions\n",
        "def tokenize_and_align(batch):\n",
        "    tokenized_inputs = tokenizer(\n",
        "        batch[\"question\"],\n",
        "        batch[\"context\"],\n",
        "        truncation=True,\n",
        "        max_length=512,\n",
        "        return_offsets_mapping=True,  # To map tokens to character positions\n",
        "        padding=\"max_length\"  # Optional: Ensures all inputs are the same length\n",
        "    )\n",
        "\n",
        "    start_positions = []\n",
        "    end_positions = []\n",
        "\n",
        "    for i, offsets in enumerate(tokenized_inputs[\"offset_mapping\"]):\n",
        "        answer = batch[\"answer\"][i]\n",
        "        answer_start = answer[\"answer_start\"]\n",
        "        answer_text = answer[\"text\"]\n",
        "\n",
        "        # Find the start and end token indices\n",
        "        start_token_idx, end_token_idx = None, None\n",
        "        for idx, (start, end) in enumerate(offsets):\n",
        "            if start <= answer_start < end:\n",
        "                start_token_idx = idx\n",
        "            if start < answer_start + len(answer_text) <= end:\n",
        "                end_token_idx = idx\n",
        "                break\n",
        "\n",
        "        # Default to 0 if answer is not found (e.g., truncated context)\n",
        "        if start_token_idx is None or end_token_idx is None:\n",
        "            start_token_idx, end_token_idx = 0, 0\n",
        "\n",
        "        start_positions.append(start_token_idx)\n",
        "        end_positions.append(end_token_idx)\n",
        "\n",
        "    # Add the positions to the tokenized inputs\n",
        "    tokenized_inputs[\"start_positions\"] = start_positions\n",
        "    tokenized_inputs[\"end_positions\"] = end_positions\n",
        "    tokenized_inputs.pop(\"offset_mapping\")  # Remove offsets if not needed\n",
        "\n",
        "    return tokenized_inputs\n"
      ]
    },
    {
      "cell_type": "code",
      "execution_count": 18,
      "metadata": {
        "colab": {
          "base_uri": "https://localhost:8080/",
          "height": 81,
          "referenced_widgets": [
            "cc804d5eab114f189320fa30c103afbf",
            "4621c9e53b61434fa4e9eb94010968e8",
            "65da259e58274767baad2117f94dabc0",
            "7c5f0717e855497992b8bfd0912bf7ee",
            "15c78f8d5b054eabad664f3591b9969f",
            "ebd4ad6d64be4b9ab852a8790baa5040",
            "607ca383d4dd4eb58b991292d2f2780c",
            "e747152e3fbf40089f0b62abc1f1184b",
            "a8ebcf8358b244899990c2366b22704a",
            "859432b78faf436cbfce5bb617a23d26",
            "311b306593bc4581bc4fe6efdbcd475d",
            "e3da2ad07cd945f59ea14305e337e867",
            "8a85c4d017f54641bd523b7addc05211",
            "e675d8a2b4fa43c4b744a27c201ff6e2",
            "f318e618f46946d3986e39c5537ea6f2",
            "d13d8f77dd1c4896bce8e9c5cf736909",
            "c56607738f3b45789dd155b00f23e3cc",
            "39aa116b9aaa4851ac25fa4728dd212f",
            "c984d3bf30174ef29841a17183ca9e63",
            "a3dd1ed8270c4041a6ad655bf9f97fdd",
            "cb6486555b42430eb169f86ca2af7167",
            "68531c9ca56d40f181329e66df3c9c37"
          ]
        },
        "id": "eGnEN8Axosi5",
        "outputId": "ccfd80a5-a016-4e57-bbcd-37e478a3b911"
      },
      "outputs": [
        {
          "data": {
            "application/vnd.jupyter.widget-view+json": {
              "model_id": "bc2330cf0e764678ae6610a9ece46ca1",
              "version_major": 2,
              "version_minor": 0
            },
            "text/plain": [
              "Map:   0%|          | 0/1206526 [00:00<?, ? examples/s]"
            ]
          },
          "metadata": {},
          "output_type": "display_data"
        },
        {
          "data": {
            "application/vnd.jupyter.widget-view+json": {
              "model_id": "0c08117bb9c047c2b8b499246fbf7eee",
              "version_major": 2,
              "version_minor": 0
            },
            "text/plain": [
              "Map:   0%|          | 0/301632 [00:00<?, ? examples/s]"
            ]
          },
          "metadata": {},
          "output_type": "display_data"
        }
      ],
      "source": [
        "# Apply the tokenization function\n",
        "tokenized_dataset = dataset.map(tokenize_and_align, batched=True, remove_columns=['context', 'question', 'answer'])\n"
      ]
    },
    {
      "cell_type": "code",
      "execution_count": 19,
      "metadata": {
        "colab": {
          "base_uri": "https://localhost:8080/"
        },
        "id": "Sqp71pNBc6NI",
        "outputId": "d9cbc906-4596-4356-f53e-cc1b382a694e"
      },
      "outputs": [
        {
          "name": "stdout",
          "output_type": "stream",
          "text": [
            "DatasetDict({\n",
            "    train: Dataset({\n",
            "        features: ['input_ids', 'attention_mask', 'start_positions', 'end_positions'],\n",
            "        num_rows: 1206526\n",
            "    })\n",
            "    test: Dataset({\n",
            "        features: ['input_ids', 'attention_mask', 'start_positions', 'end_positions'],\n",
            "        num_rows: 301632\n",
            "    })\n",
            "})\n",
            "['input_ids', 'attention_mask', 'start_positions', 'end_positions']\n"
          ]
        }
      ],
      "source": [
        "print(tokenized_dataset)\n",
        "print(tokenized_dataset[\"train\"].column_names)"
      ]
    },
    {
      "cell_type": "markdown",
      "metadata": {
        "id": "ZDVSykBO8jQA"
      },
      "source": [
        "* Load the pretrained model"
      ]
    },
    {
      "cell_type": "code",
      "execution_count": 20,
      "metadata": {
        "colab": {
          "base_uri": "https://localhost:8080/",
          "height": 81,
          "referenced_widgets": [
            "72e2c4110a254badbd91a283020c8641",
            "65dc05581390480ba86eebca2f4789fa",
            "707c4cb718bb48068ccc9a688fe00371",
            "90539fae33e2421f95b3f943d6a4d45e",
            "d90c5142b18e4a678c1b8958a6847f8c",
            "49c98b1552b84f9997ffa73061cd0560",
            "0d42488c83454b1aaa4e1c0554870cfe",
            "760de21e5dfd433ca4f05ad8f400ee82",
            "d8b2e92e907a4b5b8bcbb1c5c857fb91",
            "e8f6a0c098d24a3291792ce841597048",
            "16c1fc47b3ef4caab7bfe8b23e18af4c",
            "1be0973a27034c2b8a5a2b19bc5f4494",
            "6672f6ba27664e798acc41f55e58bd2e",
            "ac85d4ba4b2f458d92928182f5d503ca",
            "5f1c7019957e4a5cbaf7931950f5983c",
            "0aeaed77f43646feb8b923e653bb9ae0",
            "dbe29643f40d4d32af9022a4de624507",
            "291a1688586b44bbac23778137d226cd",
            "41bb805cd2414cd0ad206a91201974e0",
            "0b1cc1aa9c464600b12c4d5cac5d0005",
            "da4dad4e51cc4782bb87f0f777dbe4bc",
            "5340d4f89bb443cba03720d02fa9fc5a"
          ]
        },
        "id": "lO6bX46p2WF7",
        "outputId": "254098fc-67a2-4bde-e59f-98f01a960341"
      },
      "outputs": [
        {
          "data": {
            "application/vnd.jupyter.widget-view+json": {
              "model_id": "ed29fb3e31324b0c808166bcba453aad",
              "version_major": 2,
              "version_minor": 0
            },
            "text/plain": [
              "Saving the dataset (0/7 shards):   0%|          | 0/1206526 [00:00<?, ? examples/s]"
            ]
          },
          "metadata": {},
          "output_type": "display_data"
        },
        {
          "data": {
            "application/vnd.jupyter.widget-view+json": {
              "model_id": "40a8561d6e034597b70e0b379d69090b",
              "version_major": 2,
              "version_minor": 0
            },
            "text/plain": [
              "Saving the dataset (0/2 shards):   0%|          | 0/301632 [00:00<?, ? examples/s]"
            ]
          },
          "metadata": {},
          "output_type": "display_data"
        }
      ],
      "source": [
        "# Save the tokenized dataset to disk in Arrow format\n",
        "tokenized_dataset.save_to_disk(\"saved_tokenized_dataset\")\n"
      ]
    },
    {
      "cell_type": "code",
      "execution_count": 21,
      "metadata": {
        "id": "6K3pVUItweMi"
      },
      "outputs": [],
      "source": [
        "model_checkpoint = \"distilbert-base-uncased-distilled-squad\""
      ]
    },
    {
      "cell_type": "code",
      "execution_count": 22,
      "metadata": {
        "id": "4w7c437F-cBD"
      },
      "outputs": [],
      "source": [
        "from transformers import DistilBertForQuestionAnswering\n",
        "\n",
        "model = DistilBertForQuestionAnswering.from_pretrained(model_checkpoint)"
      ]
    },
    {
      "cell_type": "markdown",
      "metadata": {
        "id": "7u8BCyP9-iOb"
      },
      "source": [
        "\n",
        "\n",
        "*   Define Training Arguments\n",
        "\n",
        "\n"
      ]
    },
    {
      "cell_type": "code",
      "execution_count": 23,
      "metadata": {
        "colab": {
          "base_uri": "https://localhost:8080/"
        },
        "id": "x1XAUU9p-qVu",
        "outputId": "2173e9a5-928f-4fd8-b123-438e450675af"
      },
      "outputs": [],
      "source": [
        "\n",
        "from transformers import TrainingArguments\n",
        "\n",
        "training_args = TrainingArguments(\n",
        "    output_dir=\"./amazonhkqa_model\",\n",
        "    evaluation_strategy=\"epoch\",\n",
        "    save_strategy=\"epoch\",\n",
        "    learning_rate=2e-5,\n",
        "    per_device_train_batch_size=8,\n",
        "    per_device_eval_batch_size=8,\n",
        "    num_train_epochs=3,\n",
        "    weight_decay=0.01,\n",
        "    push_to_hub=False\n",
        "\n",
        ")\n"
      ]
    },
    {
      "cell_type": "markdown",
      "metadata": {
        "id": "S5hZFRgk_wxN"
      },
      "source": [
        "* Define the trainer and train the model with our dataset"
      ]
    },
    {
      "cell_type": "code",
      "execution_count": 24,
      "metadata": {
        "id": "uypI8BDn_vzX"
      },
      "outputs": [],
      "source": [
        "from transformers import Trainer\n",
        "trainer = Trainer(\n",
        "    model=model,\n",
        "    args=training_args,\n",
        "    train_dataset=tokenized_dataset[\"train\"],\n",
        "    eval_dataset=tokenized_dataset[\"test\"],\n",
        "    processing_class=tokenizer\n",
        ")\n"
      ]
    },
    {
      "cell_type": "code",
      "execution_count": 25,
      "metadata": {
        "colab": {
          "base_uri": "https://localhost:8080/",
          "height": 379
        },
        "id": "zoPKEjs0__D8",
        "outputId": "6c8446b8-a587-4449-c3f8-c37a29c8cb6d"
      },
      "outputs": [
        {
          "data": {
            "text/html": [
              "\n",
              "    <div>\n",
              "      \n",
              "      <progress value='3656' max='452448' style='width:300px; height:20px; vertical-align: middle;'></progress>\n",
              "      [  3656/452448 3:12:03 < 393:10:00, 0.32 it/s, Epoch 0.02/3]\n",
              "    </div>\n",
              "    <table border=\"1\" class=\"dataframe\">\n",
              "  <thead>\n",
              " <tr style=\"text-align: left;\">\n",
              "      <th>Epoch</th>\n",
              "      <th>Training Loss</th>\n",
              "      <th>Validation Loss</th>\n",
              "    </tr>\n",
              "  </thead>\n",
              "  <tbody>\n",
              "  </tbody>\n",
              "</table><p>"
            ],
            "text/plain": [
              "<IPython.core.display.HTML object>"
            ]
          },
          "metadata": {},
          "output_type": "display_data"
        },
        {
          "ename": "KeyboardInterrupt",
          "evalue": "",
          "output_type": "error",
          "traceback": [
            "\u001b[31m---------------------------------------------------------------------------\u001b[39m",
            "\u001b[31mKeyboardInterrupt\u001b[39m                         Traceback (most recent call last)",
            "\u001b[36mCell\u001b[39m\u001b[36m \u001b[39m\u001b[32mIn[25]\u001b[39m\u001b[32m, line 1\u001b[39m\n\u001b[32m----> \u001b[39m\u001b[32m1\u001b[39m \u001b[43mtrainer\u001b[49m\u001b[43m.\u001b[49m\u001b[43mtrain\u001b[49m\u001b[43m(\u001b[49m\u001b[43m)\u001b[49m\n",
            "\u001b[36mFile \u001b[39m\u001b[32mc:\\Users\\spscd\\AppData\\Local\\Programs\\Python\\Python313\\Lib\\site-packages\\transformers\\trainer.py:2245\u001b[39m, in \u001b[36mTrainer.train\u001b[39m\u001b[34m(self, resume_from_checkpoint, trial, ignore_keys_for_eval, **kwargs)\u001b[39m\n\u001b[32m   2243\u001b[39m         hf_hub_utils.enable_progress_bars()\n\u001b[32m   2244\u001b[39m \u001b[38;5;28;01melse\u001b[39;00m:\n\u001b[32m-> \u001b[39m\u001b[32m2245\u001b[39m     \u001b[38;5;28;01mreturn\u001b[39;00m \u001b[43minner_training_loop\u001b[49m\u001b[43m(\u001b[49m\n\u001b[32m   2246\u001b[39m \u001b[43m        \u001b[49m\u001b[43margs\u001b[49m\u001b[43m=\u001b[49m\u001b[43margs\u001b[49m\u001b[43m,\u001b[49m\n\u001b[32m   2247\u001b[39m \u001b[43m        \u001b[49m\u001b[43mresume_from_checkpoint\u001b[49m\u001b[43m=\u001b[49m\u001b[43mresume_from_checkpoint\u001b[49m\u001b[43m,\u001b[49m\n\u001b[32m   2248\u001b[39m \u001b[43m        \u001b[49m\u001b[43mtrial\u001b[49m\u001b[43m=\u001b[49m\u001b[43mtrial\u001b[49m\u001b[43m,\u001b[49m\n\u001b[32m   2249\u001b[39m \u001b[43m        \u001b[49m\u001b[43mignore_keys_for_eval\u001b[49m\u001b[43m=\u001b[49m\u001b[43mignore_keys_for_eval\u001b[49m\u001b[43m,\u001b[49m\n\u001b[32m   2250\u001b[39m \u001b[43m    \u001b[49m\u001b[43m)\u001b[49m\n",
            "\u001b[36mFile \u001b[39m\u001b[32mc:\\Users\\spscd\\AppData\\Local\\Programs\\Python\\Python313\\Lib\\site-packages\\transformers\\trainer.py:2556\u001b[39m, in \u001b[36mTrainer._inner_training_loop\u001b[39m\u001b[34m(self, batch_size, args, resume_from_checkpoint, trial, ignore_keys_for_eval)\u001b[39m\n\u001b[32m   2549\u001b[39m context = (\n\u001b[32m   2550\u001b[39m     functools.partial(\u001b[38;5;28mself\u001b[39m.accelerator.no_sync, model=model)\n\u001b[32m   2551\u001b[39m     \u001b[38;5;28;01mif\u001b[39;00m i != \u001b[38;5;28mlen\u001b[39m(batch_samples) - \u001b[32m1\u001b[39m\n\u001b[32m   2552\u001b[39m     \u001b[38;5;129;01mand\u001b[39;00m \u001b[38;5;28mself\u001b[39m.accelerator.distributed_type != DistributedType.DEEPSPEED\n\u001b[32m   2553\u001b[39m     \u001b[38;5;28;01melse\u001b[39;00m contextlib.nullcontext\n\u001b[32m   2554\u001b[39m )\n\u001b[32m   2555\u001b[39m \u001b[38;5;28;01mwith\u001b[39;00m context():\n\u001b[32m-> \u001b[39m\u001b[32m2556\u001b[39m     tr_loss_step = \u001b[38;5;28;43mself\u001b[39;49m\u001b[43m.\u001b[49m\u001b[43mtraining_step\u001b[49m\u001b[43m(\u001b[49m\u001b[43mmodel\u001b[49m\u001b[43m,\u001b[49m\u001b[43m \u001b[49m\u001b[43minputs\u001b[49m\u001b[43m,\u001b[49m\u001b[43m \u001b[49m\u001b[43mnum_items_in_batch\u001b[49m\u001b[43m)\u001b[49m\n\u001b[32m   2558\u001b[39m \u001b[38;5;28;01mif\u001b[39;00m (\n\u001b[32m   2559\u001b[39m     args.logging_nan_inf_filter\n\u001b[32m   2560\u001b[39m     \u001b[38;5;129;01mand\u001b[39;00m \u001b[38;5;129;01mnot\u001b[39;00m is_torch_xla_available()\n\u001b[32m   2561\u001b[39m     \u001b[38;5;129;01mand\u001b[39;00m (torch.isnan(tr_loss_step) \u001b[38;5;129;01mor\u001b[39;00m torch.isinf(tr_loss_step))\n\u001b[32m   2562\u001b[39m ):\n\u001b[32m   2563\u001b[39m     \u001b[38;5;66;03m# if loss is nan or inf simply add the average of previous logged losses\u001b[39;00m\n\u001b[32m   2564\u001b[39m     tr_loss = tr_loss + tr_loss / (\u001b[32m1\u001b[39m + \u001b[38;5;28mself\u001b[39m.state.global_step - \u001b[38;5;28mself\u001b[39m._globalstep_last_logged)\n",
            "\u001b[36mFile \u001b[39m\u001b[32mc:\\Users\\spscd\\AppData\\Local\\Programs\\Python\\Python313\\Lib\\site-packages\\transformers\\trainer.py:3764\u001b[39m, in \u001b[36mTrainer.training_step\u001b[39m\u001b[34m(***failed resolving arguments***)\u001b[39m\n\u001b[32m   3761\u001b[39m \u001b[38;5;28;01mif\u001b[39;00m \u001b[38;5;28mself\u001b[39m.accelerator.distributed_type == DistributedType.DEEPSPEED:\n\u001b[32m   3762\u001b[39m     kwargs[\u001b[33m\"\u001b[39m\u001b[33mscale_wrt_gas\u001b[39m\u001b[33m\"\u001b[39m] = \u001b[38;5;28;01mFalse\u001b[39;00m\n\u001b[32m-> \u001b[39m\u001b[32m3764\u001b[39m \u001b[38;5;28;43mself\u001b[39;49m\u001b[43m.\u001b[49m\u001b[43maccelerator\u001b[49m\u001b[43m.\u001b[49m\u001b[43mbackward\u001b[49m\u001b[43m(\u001b[49m\u001b[43mloss\u001b[49m\u001b[43m,\u001b[49m\u001b[43m \u001b[49m\u001b[43m*\u001b[49m\u001b[43m*\u001b[49m\u001b[43mkwargs\u001b[49m\u001b[43m)\u001b[49m\n\u001b[32m   3766\u001b[39m \u001b[38;5;28;01mreturn\u001b[39;00m loss.detach()\n",
            "\u001b[36mFile \u001b[39m\u001b[32mc:\\Users\\spscd\\AppData\\Local\\Programs\\Python\\Python313\\Lib\\site-packages\\accelerate\\accelerator.py:2454\u001b[39m, in \u001b[36mAccelerator.backward\u001b[39m\u001b[34m(self, loss, **kwargs)\u001b[39m\n\u001b[32m   2452\u001b[39m     \u001b[38;5;28mself\u001b[39m.lomo_backward(loss, learning_rate)\n\u001b[32m   2453\u001b[39m \u001b[38;5;28;01melse\u001b[39;00m:\n\u001b[32m-> \u001b[39m\u001b[32m2454\u001b[39m     \u001b[43mloss\u001b[49m\u001b[43m.\u001b[49m\u001b[43mbackward\u001b[49m\u001b[43m(\u001b[49m\u001b[43m*\u001b[49m\u001b[43m*\u001b[49m\u001b[43mkwargs\u001b[49m\u001b[43m)\u001b[49m\n",
            "\u001b[36mFile \u001b[39m\u001b[32mc:\\Users\\spscd\\AppData\\Local\\Programs\\Python\\Python313\\Lib\\site-packages\\torch\\_tensor.py:626\u001b[39m, in \u001b[36mTensor.backward\u001b[39m\u001b[34m(self, gradient, retain_graph, create_graph, inputs)\u001b[39m\n\u001b[32m    616\u001b[39m \u001b[38;5;28;01mif\u001b[39;00m has_torch_function_unary(\u001b[38;5;28mself\u001b[39m):\n\u001b[32m    617\u001b[39m     \u001b[38;5;28;01mreturn\u001b[39;00m handle_torch_function(\n\u001b[32m    618\u001b[39m         Tensor.backward,\n\u001b[32m    619\u001b[39m         (\u001b[38;5;28mself\u001b[39m,),\n\u001b[32m   (...)\u001b[39m\u001b[32m    624\u001b[39m         inputs=inputs,\n\u001b[32m    625\u001b[39m     )\n\u001b[32m--> \u001b[39m\u001b[32m626\u001b[39m \u001b[43mtorch\u001b[49m\u001b[43m.\u001b[49m\u001b[43mautograd\u001b[49m\u001b[43m.\u001b[49m\u001b[43mbackward\u001b[49m\u001b[43m(\u001b[49m\n\u001b[32m    627\u001b[39m \u001b[43m    \u001b[49m\u001b[38;5;28;43mself\u001b[39;49m\u001b[43m,\u001b[49m\u001b[43m \u001b[49m\u001b[43mgradient\u001b[49m\u001b[43m,\u001b[49m\u001b[43m \u001b[49m\u001b[43mretain_graph\u001b[49m\u001b[43m,\u001b[49m\u001b[43m \u001b[49m\u001b[43mcreate_graph\u001b[49m\u001b[43m,\u001b[49m\u001b[43m \u001b[49m\u001b[43minputs\u001b[49m\u001b[43m=\u001b[49m\u001b[43minputs\u001b[49m\n\u001b[32m    628\u001b[39m \u001b[43m\u001b[49m\u001b[43m)\u001b[49m\n",
            "\u001b[36mFile \u001b[39m\u001b[32mc:\\Users\\spscd\\AppData\\Local\\Programs\\Python\\Python313\\Lib\\site-packages\\torch\\autograd\\__init__.py:347\u001b[39m, in \u001b[36mbackward\u001b[39m\u001b[34m(tensors, grad_tensors, retain_graph, create_graph, grad_variables, inputs)\u001b[39m\n\u001b[32m    342\u001b[39m     retain_graph = create_graph\n\u001b[32m    344\u001b[39m \u001b[38;5;66;03m# The reason we repeat the same comment below is that\u001b[39;00m\n\u001b[32m    345\u001b[39m \u001b[38;5;66;03m# some Python versions print out the first line of a multi-line function\u001b[39;00m\n\u001b[32m    346\u001b[39m \u001b[38;5;66;03m# calls in the traceback and some print out the last line\u001b[39;00m\n\u001b[32m--> \u001b[39m\u001b[32m347\u001b[39m \u001b[43m_engine_run_backward\u001b[49m\u001b[43m(\u001b[49m\n\u001b[32m    348\u001b[39m \u001b[43m    \u001b[49m\u001b[43mtensors\u001b[49m\u001b[43m,\u001b[49m\n\u001b[32m    349\u001b[39m \u001b[43m    \u001b[49m\u001b[43mgrad_tensors_\u001b[49m\u001b[43m,\u001b[49m\n\u001b[32m    350\u001b[39m \u001b[43m    \u001b[49m\u001b[43mretain_graph\u001b[49m\u001b[43m,\u001b[49m\n\u001b[32m    351\u001b[39m \u001b[43m    \u001b[49m\u001b[43mcreate_graph\u001b[49m\u001b[43m,\u001b[49m\n\u001b[32m    352\u001b[39m \u001b[43m    \u001b[49m\u001b[43minputs\u001b[49m\u001b[43m,\u001b[49m\n\u001b[32m    353\u001b[39m \u001b[43m    \u001b[49m\u001b[43mallow_unreachable\u001b[49m\u001b[43m=\u001b[49m\u001b[38;5;28;43;01mTrue\u001b[39;49;00m\u001b[43m,\u001b[49m\n\u001b[32m    354\u001b[39m \u001b[43m    \u001b[49m\u001b[43maccumulate_grad\u001b[49m\u001b[43m=\u001b[49m\u001b[38;5;28;43;01mTrue\u001b[39;49;00m\u001b[43m,\u001b[49m\n\u001b[32m    355\u001b[39m \u001b[43m\u001b[49m\u001b[43m)\u001b[49m\n",
            "\u001b[36mFile \u001b[39m\u001b[32mc:\\Users\\spscd\\AppData\\Local\\Programs\\Python\\Python313\\Lib\\site-packages\\torch\\autograd\\graph.py:823\u001b[39m, in \u001b[36m_engine_run_backward\u001b[39m\u001b[34m(t_outputs, *args, **kwargs)\u001b[39m\n\u001b[32m    821\u001b[39m     unregister_hooks = _register_logging_hooks_on_whole_graph(t_outputs)\n\u001b[32m    822\u001b[39m \u001b[38;5;28;01mtry\u001b[39;00m:\n\u001b[32m--> \u001b[39m\u001b[32m823\u001b[39m     \u001b[38;5;28;01mreturn\u001b[39;00m \u001b[43mVariable\u001b[49m\u001b[43m.\u001b[49m\u001b[43m_execution_engine\u001b[49m\u001b[43m.\u001b[49m\u001b[43mrun_backward\u001b[49m\u001b[43m(\u001b[49m\u001b[43m  \u001b[49m\u001b[38;5;66;43;03m# Calls into the C++ engine to run the backward pass\u001b[39;49;00m\n\u001b[32m    824\u001b[39m \u001b[43m        \u001b[49m\u001b[43mt_outputs\u001b[49m\u001b[43m,\u001b[49m\u001b[43m \u001b[49m\u001b[43m*\u001b[49m\u001b[43margs\u001b[49m\u001b[43m,\u001b[49m\u001b[43m \u001b[49m\u001b[43m*\u001b[49m\u001b[43m*\u001b[49m\u001b[43mkwargs\u001b[49m\n\u001b[32m    825\u001b[39m \u001b[43m    \u001b[49m\u001b[43m)\u001b[49m  \u001b[38;5;66;03m# Calls into the C++ engine to run the backward pass\u001b[39;00m\n\u001b[32m    826\u001b[39m \u001b[38;5;28;01mfinally\u001b[39;00m:\n\u001b[32m    827\u001b[39m     \u001b[38;5;28;01mif\u001b[39;00m attach_logging_hooks:\n",
            "\u001b[31mKeyboardInterrupt\u001b[39m: "
          ]
        }
      ],
      "source": [
        "trainer.train()"
      ]
    }
  ],
  "metadata": {
    "accelerator": "GPU",
    "colab": {
      "gpuType": "T4",
      "machine_shape": "hm",
      "provenance": []
    },
    "kernelspec": {
      "display_name": "Python 3",
      "name": "python3"
    },
    "language_info": {
      "codemirror_mode": {
        "name": "ipython",
        "version": 3
      },
      "file_extension": ".py",
      "mimetype": "text/x-python",
      "name": "python",
      "nbconvert_exporter": "python",
      "pygments_lexer": "ipython3",
      "version": "3.13.2"
    }
  },
  "nbformat": 4,
  "nbformat_minor": 0
}