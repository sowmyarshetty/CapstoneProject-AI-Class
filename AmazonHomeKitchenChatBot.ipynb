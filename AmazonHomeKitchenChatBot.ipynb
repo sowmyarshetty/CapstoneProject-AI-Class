{
 "cells": [
  {
   "cell_type": "code",
   "execution_count": 3,
   "metadata": {},
   "outputs": [
    {
     "name": "stdout",
     "output_type": "stream",
     "text": [
      "Requirement already satisfied: langchain-openai in c:\\users\\sowmy\\.conda\\envs\\dev\\lib\\site-packages (0.3.12)\n",
      "Requirement already satisfied: langchain-core<1.0.0,>=0.3.49 in c:\\users\\sowmy\\.conda\\envs\\dev\\lib\\site-packages (from langchain-openai) (0.3.50)\n",
      "Requirement already satisfied: openai<2.0.0,>=1.68.2 in c:\\users\\sowmy\\.conda\\envs\\dev\\lib\\site-packages (from langchain-openai) (1.70.0)\n",
      "Requirement already satisfied: tiktoken<1,>=0.7 in c:\\users\\sowmy\\.conda\\envs\\dev\\lib\\site-packages (from langchain-openai) (0.9.0)\n",
      "Requirement already satisfied: langsmith<0.4,>=0.1.125 in c:\\users\\sowmy\\.conda\\envs\\dev\\lib\\site-packages (from langchain-core<1.0.0,>=0.3.49->langchain-openai) (0.3.18)\n",
      "Requirement already satisfied: tenacity!=8.4.0,<10.0.0,>=8.1.0 in c:\\users\\sowmy\\.conda\\envs\\dev\\lib\\site-packages (from langchain-core<1.0.0,>=0.3.49->langchain-openai) (8.2.3)\n",
      "Requirement already satisfied: jsonpatch<2.0,>=1.33 in c:\\users\\sowmy\\.conda\\envs\\dev\\lib\\site-packages (from langchain-core<1.0.0,>=0.3.49->langchain-openai) (1.33)\n",
      "Requirement already satisfied: PyYAML>=5.3 in c:\\users\\sowmy\\.conda\\envs\\dev\\lib\\site-packages (from langchain-core<1.0.0,>=0.3.49->langchain-openai) (6.0.1)\n",
      "Requirement already satisfied: packaging<25,>=23.2 in c:\\users\\sowmy\\.conda\\envs\\dev\\lib\\site-packages (from langchain-core<1.0.0,>=0.3.49->langchain-openai) (24.1)\n",
      "Requirement already satisfied: typing-extensions>=4.7 in c:\\users\\sowmy\\.conda\\envs\\dev\\lib\\site-packages (from langchain-core<1.0.0,>=0.3.49->langchain-openai) (4.12.2)\n",
      "Requirement already satisfied: pydantic<3.0.0,>=2.5.2 in c:\\users\\sowmy\\.conda\\envs\\dev\\lib\\site-packages (from langchain-core<1.0.0,>=0.3.49->langchain-openai) (2.10.6)\n",
      "Requirement already satisfied: anyio<5,>=3.5.0 in c:\\users\\sowmy\\.conda\\envs\\dev\\lib\\site-packages (from openai<2.0.0,>=1.68.2->langchain-openai) (4.2.0)\n",
      "Requirement already satisfied: distro<2,>=1.7.0 in c:\\users\\sowmy\\.conda\\envs\\dev\\lib\\site-packages (from openai<2.0.0,>=1.68.2->langchain-openai) (1.9.0)\n",
      "Requirement already satisfied: httpx<1,>=0.23.0 in c:\\users\\sowmy\\.conda\\envs\\dev\\lib\\site-packages (from openai<2.0.0,>=1.68.2->langchain-openai) (0.27.0)\n",
      "Requirement already satisfied: jiter<1,>=0.4.0 in c:\\users\\sowmy\\.conda\\envs\\dev\\lib\\site-packages (from openai<2.0.0,>=1.68.2->langchain-openai) (0.9.0)\n",
      "Requirement already satisfied: sniffio in c:\\users\\sowmy\\.conda\\envs\\dev\\lib\\site-packages (from openai<2.0.0,>=1.68.2->langchain-openai) (1.3.0)\n",
      "Requirement already satisfied: tqdm>4 in c:\\users\\sowmy\\.conda\\envs\\dev\\lib\\site-packages (from openai<2.0.0,>=1.68.2->langchain-openai) (4.66.5)\n",
      "Requirement already satisfied: regex>=2022.1.18 in c:\\users\\sowmy\\.conda\\envs\\dev\\lib\\site-packages (from tiktoken<1,>=0.7->langchain-openai) (2024.9.11)\n",
      "Requirement already satisfied: requests>=2.26.0 in c:\\users\\sowmy\\.conda\\envs\\dev\\lib\\site-packages (from tiktoken<1,>=0.7->langchain-openai) (2.32.3)\n",
      "Requirement already satisfied: idna>=2.8 in c:\\users\\sowmy\\.conda\\envs\\dev\\lib\\site-packages (from anyio<5,>=3.5.0->openai<2.0.0,>=1.68.2->langchain-openai) (3.7)\n",
      "Requirement already satisfied: exceptiongroup>=1.0.2 in c:\\users\\sowmy\\.conda\\envs\\dev\\lib\\site-packages (from anyio<5,>=3.5.0->openai<2.0.0,>=1.68.2->langchain-openai) (1.2.0)\n",
      "Requirement already satisfied: certifi in c:\\users\\sowmy\\.conda\\envs\\dev\\lib\\site-packages (from httpx<1,>=0.23.0->openai<2.0.0,>=1.68.2->langchain-openai) (2024.8.30)\n",
      "Requirement already satisfied: httpcore==1.* in c:\\users\\sowmy\\.conda\\envs\\dev\\lib\\site-packages (from httpx<1,>=0.23.0->openai<2.0.0,>=1.68.2->langchain-openai) (1.0.2)\n",
      "Requirement already satisfied: h11<0.15,>=0.13 in c:\\users\\sowmy\\.conda\\envs\\dev\\lib\\site-packages (from httpcore==1.*->httpx<1,>=0.23.0->openai<2.0.0,>=1.68.2->langchain-openai) (0.14.0)\n",
      "Requirement already satisfied: jsonpointer>=1.9 in c:\\users\\sowmy\\.conda\\envs\\dev\\lib\\site-packages (from jsonpatch<2.0,>=1.33->langchain-core<1.0.0,>=0.3.49->langchain-openai) (3.0.0)\n",
      "Requirement already satisfied: orjson<4.0.0,>=3.9.14 in c:\\users\\sowmy\\.conda\\envs\\dev\\lib\\site-packages (from langsmith<0.4,>=0.1.125->langchain-core<1.0.0,>=0.3.49->langchain-openai) (3.10.15)\n",
      "Requirement already satisfied: requests-toolbelt<2.0.0,>=1.0.0 in c:\\users\\sowmy\\.conda\\envs\\dev\\lib\\site-packages (from langsmith<0.4,>=0.1.125->langchain-core<1.0.0,>=0.3.49->langchain-openai) (1.0.0)\n",
      "Requirement already satisfied: zstandard<0.24.0,>=0.23.0 in c:\\users\\sowmy\\.conda\\envs\\dev\\lib\\site-packages (from langsmith<0.4,>=0.1.125->langchain-core<1.0.0,>=0.3.49->langchain-openai) (0.23.0)\n",
      "Requirement already satisfied: annotated-types>=0.6.0 in c:\\users\\sowmy\\.conda\\envs\\dev\\lib\\site-packages (from pydantic<3.0.0,>=2.5.2->langchain-core<1.0.0,>=0.3.49->langchain-openai) (0.7.0)\n",
      "Requirement already satisfied: pydantic-core==2.27.2 in c:\\users\\sowmy\\.conda\\envs\\dev\\lib\\site-packages (from pydantic<3.0.0,>=2.5.2->langchain-core<1.0.0,>=0.3.49->langchain-openai) (2.27.2)\n",
      "Requirement already satisfied: charset-normalizer<4,>=2 in c:\\users\\sowmy\\.conda\\envs\\dev\\lib\\site-packages (from requests>=2.26.0->tiktoken<1,>=0.7->langchain-openai) (3.3.2)\n",
      "Requirement already satisfied: urllib3<3,>=1.21.1 in c:\\users\\sowmy\\.conda\\envs\\dev\\lib\\site-packages (from requests>=2.26.0->tiktoken<1,>=0.7->langchain-openai) (2.2.3)\n",
      "Requirement already satisfied: colorama in c:\\users\\sowmy\\.conda\\envs\\dev\\lib\\site-packages (from tqdm>4->openai<2.0.0,>=1.68.2->langchain-openai) (0.4.6)\n",
      "Requirement already satisfied: langchain-huggingface in c:\\users\\sowmy\\.conda\\envs\\dev\\lib\\site-packages (0.1.2)\n",
      "Requirement already satisfied: huggingface-hub>=0.23.0 in c:\\users\\sowmy\\.conda\\envs\\dev\\lib\\site-packages (from langchain-huggingface) (0.29.3)\n",
      "Requirement already satisfied: langchain-core<0.4.0,>=0.3.15 in c:\\users\\sowmy\\.conda\\envs\\dev\\lib\\site-packages (from langchain-huggingface) (0.3.50)\n",
      "Requirement already satisfied: sentence-transformers>=2.6.0 in c:\\users\\sowmy\\.conda\\envs\\dev\\lib\\site-packages (from langchain-huggingface) (3.4.1)\n",
      "Requirement already satisfied: tokenizers>=0.19.1 in c:\\users\\sowmy\\.conda\\envs\\dev\\lib\\site-packages (from langchain-huggingface) (0.21.1)\n",
      "Requirement already satisfied: transformers>=4.39.0 in c:\\users\\sowmy\\.conda\\envs\\dev\\lib\\site-packages (from langchain-huggingface) (4.49.0)\n",
      "Requirement already satisfied: filelock in c:\\users\\sowmy\\.conda\\envs\\dev\\lib\\site-packages (from huggingface-hub>=0.23.0->langchain-huggingface) (3.13.1)\n",
      "Requirement already satisfied: fsspec>=2023.5.0 in c:\\users\\sowmy\\.conda\\envs\\dev\\lib\\site-packages (from huggingface-hub>=0.23.0->langchain-huggingface) (2024.6.1)\n",
      "Requirement already satisfied: packaging>=20.9 in c:\\users\\sowmy\\.conda\\envs\\dev\\lib\\site-packages (from huggingface-hub>=0.23.0->langchain-huggingface) (24.1)\n",
      "Requirement already satisfied: pyyaml>=5.1 in c:\\users\\sowmy\\.conda\\envs\\dev\\lib\\site-packages (from huggingface-hub>=0.23.0->langchain-huggingface) (6.0.1)\n",
      "Requirement already satisfied: requests in c:\\users\\sowmy\\.conda\\envs\\dev\\lib\\site-packages (from huggingface-hub>=0.23.0->langchain-huggingface) (2.32.3)\n",
      "Requirement already satisfied: tqdm>=4.42.1 in c:\\users\\sowmy\\.conda\\envs\\dev\\lib\\site-packages (from huggingface-hub>=0.23.0->langchain-huggingface) (4.66.5)\n",
      "Requirement already satisfied: typing-extensions>=3.7.4.3 in c:\\users\\sowmy\\.conda\\envs\\dev\\lib\\site-packages (from huggingface-hub>=0.23.0->langchain-huggingface) (4.12.2)\n",
      "Requirement already satisfied: langsmith<0.4,>=0.1.125 in c:\\users\\sowmy\\.conda\\envs\\dev\\lib\\site-packages (from langchain-core<0.4.0,>=0.3.15->langchain-huggingface) (0.3.18)\n",
      "Requirement already satisfied: tenacity!=8.4.0,<10.0.0,>=8.1.0 in c:\\users\\sowmy\\.conda\\envs\\dev\\lib\\site-packages (from langchain-core<0.4.0,>=0.3.15->langchain-huggingface) (8.2.3)\n",
      "Requirement already satisfied: jsonpatch<2.0,>=1.33 in c:\\users\\sowmy\\.conda\\envs\\dev\\lib\\site-packages (from langchain-core<0.4.0,>=0.3.15->langchain-huggingface) (1.33)\n",
      "Requirement already satisfied: pydantic<3.0.0,>=2.5.2 in c:\\users\\sowmy\\.conda\\envs\\dev\\lib\\site-packages (from langchain-core<0.4.0,>=0.3.15->langchain-huggingface) (2.10.6)\n",
      "Requirement already satisfied: torch>=1.11.0 in c:\\users\\sowmy\\.conda\\envs\\dev\\lib\\site-packages (from sentence-transformers>=2.6.0->langchain-huggingface) (2.6.0)\n",
      "Requirement already satisfied: scikit-learn in c:\\users\\sowmy\\.conda\\envs\\dev\\lib\\site-packages (from sentence-transformers>=2.6.0->langchain-huggingface) (1.5.1)\n",
      "Requirement already satisfied: scipy in c:\\users\\sowmy\\.conda\\envs\\dev\\lib\\site-packages (from sentence-transformers>=2.6.0->langchain-huggingface) (1.13.1)\n",
      "Requirement already satisfied: Pillow in c:\\users\\sowmy\\.conda\\envs\\dev\\lib\\site-packages (from sentence-transformers>=2.6.0->langchain-huggingface) (10.4.0)\n",
      "Requirement already satisfied: numpy>=1.17 in c:\\users\\sowmy\\.conda\\envs\\dev\\lib\\site-packages (from transformers>=4.39.0->langchain-huggingface) (1.26.4)\n",
      "Requirement already satisfied: regex!=2019.12.17 in c:\\users\\sowmy\\.conda\\envs\\dev\\lib\\site-packages (from transformers>=4.39.0->langchain-huggingface) (2024.9.11)\n",
      "Requirement already satisfied: safetensors>=0.4.1 in c:\\users\\sowmy\\.conda\\envs\\dev\\lib\\site-packages (from transformers>=4.39.0->langchain-huggingface) (0.5.3)\n",
      "Requirement already satisfied: jsonpointer>=1.9 in c:\\users\\sowmy\\.conda\\envs\\dev\\lib\\site-packages (from jsonpatch<2.0,>=1.33->langchain-core<0.4.0,>=0.3.15->langchain-huggingface) (3.0.0)\n",
      "Requirement already satisfied: httpx<1,>=0.23.0 in c:\\users\\sowmy\\.conda\\envs\\dev\\lib\\site-packages (from langsmith<0.4,>=0.1.125->langchain-core<0.4.0,>=0.3.15->langchain-huggingface) (0.27.0)\n",
      "Requirement already satisfied: orjson<4.0.0,>=3.9.14 in c:\\users\\sowmy\\.conda\\envs\\dev\\lib\\site-packages (from langsmith<0.4,>=0.1.125->langchain-core<0.4.0,>=0.3.15->langchain-huggingface) (3.10.15)\n",
      "Requirement already satisfied: requests-toolbelt<2.0.0,>=1.0.0 in c:\\users\\sowmy\\.conda\\envs\\dev\\lib\\site-packages (from langsmith<0.4,>=0.1.125->langchain-core<0.4.0,>=0.3.15->langchain-huggingface) (1.0.0)\n",
      "Requirement already satisfied: zstandard<0.24.0,>=0.23.0 in c:\\users\\sowmy\\.conda\\envs\\dev\\lib\\site-packages (from langsmith<0.4,>=0.1.125->langchain-core<0.4.0,>=0.3.15->langchain-huggingface) (0.23.0)\n",
      "Requirement already satisfied: annotated-types>=0.6.0 in c:\\users\\sowmy\\.conda\\envs\\dev\\lib\\site-packages (from pydantic<3.0.0,>=2.5.2->langchain-core<0.4.0,>=0.3.15->langchain-huggingface) (0.7.0)\n",
      "Requirement already satisfied: pydantic-core==2.27.2 in c:\\users\\sowmy\\.conda\\envs\\dev\\lib\\site-packages (from pydantic<3.0.0,>=2.5.2->langchain-core<0.4.0,>=0.3.15->langchain-huggingface) (2.27.2)\n",
      "Requirement already satisfied: charset-normalizer<4,>=2 in c:\\users\\sowmy\\.conda\\envs\\dev\\lib\\site-packages (from requests->huggingface-hub>=0.23.0->langchain-huggingface) (3.3.2)\n",
      "Requirement already satisfied: idna<4,>=2.5 in c:\\users\\sowmy\\.conda\\envs\\dev\\lib\\site-packages (from requests->huggingface-hub>=0.23.0->langchain-huggingface) (3.7)\n",
      "Requirement already satisfied: urllib3<3,>=1.21.1 in c:\\users\\sowmy\\.conda\\envs\\dev\\lib\\site-packages (from requests->huggingface-hub>=0.23.0->langchain-huggingface) (2.2.3)\n",
      "Requirement already satisfied: certifi>=2017.4.17 in c:\\users\\sowmy\\.conda\\envs\\dev\\lib\\site-packages (from requests->huggingface-hub>=0.23.0->langchain-huggingface) (2024.8.30)\n",
      "Requirement already satisfied: networkx in c:\\users\\sowmy\\.conda\\envs\\dev\\lib\\site-packages (from torch>=1.11.0->sentence-transformers>=2.6.0->langchain-huggingface) (3.3)\n",
      "Requirement already satisfied: jinja2 in c:\\users\\sowmy\\.conda\\envs\\dev\\lib\\site-packages (from torch>=1.11.0->sentence-transformers>=2.6.0->langchain-huggingface) (3.1.4)\n",
      "Requirement already satisfied: sympy==1.13.1 in c:\\users\\sowmy\\.conda\\envs\\dev\\lib\\site-packages (from torch>=1.11.0->sentence-transformers>=2.6.0->langchain-huggingface) (1.13.1)\n",
      "Requirement already satisfied: mpmath<1.4,>=1.1.0 in c:\\users\\sowmy\\.conda\\envs\\dev\\lib\\site-packages (from sympy==1.13.1->torch>=1.11.0->sentence-transformers>=2.6.0->langchain-huggingface) (1.3.0)\n",
      "Requirement already satisfied: colorama in c:\\users\\sowmy\\.conda\\envs\\dev\\lib\\site-packages (from tqdm>=4.42.1->huggingface-hub>=0.23.0->langchain-huggingface) (0.4.6)\n",
      "Requirement already satisfied: joblib>=1.2.0 in c:\\users\\sowmy\\.conda\\envs\\dev\\lib\\site-packages (from scikit-learn->sentence-transformers>=2.6.0->langchain-huggingface) (1.4.2)\n",
      "Requirement already satisfied: threadpoolctl>=3.1.0 in c:\\users\\sowmy\\.conda\\envs\\dev\\lib\\site-packages (from scikit-learn->sentence-transformers>=2.6.0->langchain-huggingface) (3.5.0)\n",
      "Requirement already satisfied: anyio in c:\\users\\sowmy\\.conda\\envs\\dev\\lib\\site-packages (from httpx<1,>=0.23.0->langsmith<0.4,>=0.1.125->langchain-core<0.4.0,>=0.3.15->langchain-huggingface) (4.2.0)\n",
      "Requirement already satisfied: httpcore==1.* in c:\\users\\sowmy\\.conda\\envs\\dev\\lib\\site-packages (from httpx<1,>=0.23.0->langsmith<0.4,>=0.1.125->langchain-core<0.4.0,>=0.3.15->langchain-huggingface) (1.0.2)\n",
      "Requirement already satisfied: sniffio in c:\\users\\sowmy\\.conda\\envs\\dev\\lib\\site-packages (from httpx<1,>=0.23.0->langsmith<0.4,>=0.1.125->langchain-core<0.4.0,>=0.3.15->langchain-huggingface) (1.3.0)\n",
      "Requirement already satisfied: h11<0.15,>=0.13 in c:\\users\\sowmy\\.conda\\envs\\dev\\lib\\site-packages (from httpcore==1.*->httpx<1,>=0.23.0->langsmith<0.4,>=0.1.125->langchain-core<0.4.0,>=0.3.15->langchain-huggingface) (0.14.0)\n",
      "Requirement already satisfied: MarkupSafe>=2.0 in c:\\users\\sowmy\\.conda\\envs\\dev\\lib\\site-packages (from jinja2->torch>=1.11.0->sentence-transformers>=2.6.0->langchain-huggingface) (2.1.3)\n",
      "Requirement already satisfied: exceptiongroup>=1.0.2 in c:\\users\\sowmy\\.conda\\envs\\dev\\lib\\site-packages (from anyio->httpx<1,>=0.23.0->langsmith<0.4,>=0.1.125->langchain-core<0.4.0,>=0.3.15->langchain-huggingface) (1.2.0)\n",
      "Requirement already satisfied: faiss-cpu in c:\\users\\sowmy\\.conda\\envs\\dev\\lib\\site-packages (1.10.0)\n",
      "Requirement already satisfied: numpy<3.0,>=1.25.0 in c:\\users\\sowmy\\.conda\\envs\\dev\\lib\\site-packages (from faiss-cpu) (1.26.4)\n",
      "Requirement already satisfied: packaging in c:\\users\\sowmy\\.conda\\envs\\dev\\lib\\site-packages (from faiss-cpu) (24.1)\n"
     ]
    }
   ],
   "source": [
    "!pip install langchain-openai\n",
    "!pip install langchain-huggingface \n",
    "!pip install faiss-cpu\n",
    "\n",
    "\n",
    "# :class:`~langchain-huggingface package and should be used instead. To use it run `pip install -U :class:`~langchain-huggingface` and import as `from :class:`~langchain_huggingface import HuggingFaceEmbeddings``"
   ]
  },
  {
   "cell_type": "code",
   "execution_count": null,
   "metadata": {},
   "outputs": [],
   "source": [
    "import pandas as pd\n",
    "import json\n",
    "from pprint import pprint\n",
    "import os\n",
    "\n",
    "import json\n",
    "from langchain_openai import OpenAI\n",
    "from langchain.chains import RetrievalQA\n",
    "from langchain.vectorstores import DocArrayInMemorySearch\n",
    "from langchain.indexes import VectorstoreIndexCreator\n",
    "# from langchain.embeddings import OpenAIEmbeddings\n",
    "from langchain_huggingface import HuggingFaceEmbeddings\n",
    "from langchain.llms import HuggingFaceHub\n",
    "from IPython.display import display, Markdown\n",
    "from dotenv import load_dotenv, find_dotenv\n",
    "from langchain.document_loaders import TextLoader, CSVLoader, JSONLoader, PyPDFLoader\n",
    "from langchain.docstore.document import Document\n",
    "from langchain.vectorstores import FAISS\n"
   ]
  },
  {
   "cell_type": "code",
   "execution_count": null,
   "metadata": {},
   "outputs": [
    {
     "name": "stdout",
     "output_type": "stream",
     "text": [
      "754079\n"
     ]
    }
   ],
   "source": [
    "filename = \"Resources\\AmazonHomeKitchenReviews.csv\"\n",
    "# Load dataset (modify path as needed)\n",
    "df = pd.read_csv(filename)\n",
    "df.head(1)\n",
    "print(len(df))\n",
    "df_renamed = df.rename(columns={'title_y' : 'product_title','title_x':'review_title','text':'review_text'})"
   ]
  },
  {
   "cell_type": "code",
   "execution_count": null,
   "metadata": {},
   "outputs": [],
   "source": [
    "#replace with your own env file containing API keys\n",
    "load_dotenv(find_dotenv('Resources\\keys.env'))\n",
    "huggingfacehubapi = os.getenv('HuggingfaceRead')\n",
    "# print(huggingfacehubapi)\n"
   ]
  },
  {
   "cell_type": "code",
   "execution_count": 7,
   "metadata": {},
   "outputs": [],
   "source": [
    "\n",
    "def load_docs(doc):\n",
    "    loader = CSVLoader(doc)\n",
    "    return loader.load()"
   ]
  },
  {
   "cell_type": "code",
   "execution_count": 8,
   "metadata": {},
   "outputs": [
    {
     "name": "stdout",
     "output_type": "stream",
     "text": [
      ": 59\n",
      "rating: 5\n",
      "title_x: Adorable!\n",
      "text: These are so sweet. I do wish the stopper part was a little longer in length but they work great.\n",
      "images: []\n",
      "asin: B01HBWGU80\n",
      "parent_asin: B01DR2ACA0\n",
      "user_id: AGKHLEW2SOWHNMFQIJGBECAF7INQ\n",
      "timestamp: 2019-07-23 04:29:16.671\n",
      "helpful_vote: 0\n",
      "verified_purchase: True\n",
      "title_y: Little Bird Wine Bottle Stopper, Silicone Stoppers, Reusable, Leak Proof, Cute, Fun, Decorative, Multipack (Assorted Color, Set of 6)\n",
      "description: []\n",
      "price: 9.49\n",
      "Brand: LouisChoice\n",
      "Material: Silicone\n",
      "Color: Assorted Color\n",
      "categories: ['Home & Kitchen', 'Kitchen & Dining', 'Kitchen Utensils & Gadgets', 'Bar & Wine Tools', 'Wine Stoppers & Pourers', 'Wine Stoppers']\n"
     ]
    }
   ],
   "source": [
    "docs = load_docs(filename)  # Change the filename accordingly\n",
    "print(docs[0].page_content) "
   ]
  },
  {
   "cell_type": "code",
   "execution_count": 9,
   "metadata": {},
   "outputs": [
    {
     "name": "stdout",
     "output_type": "stream",
     "text": [
      "WARNING:tensorflow:From c:\\Users\\sowmy\\.conda\\envs\\dev\\lib\\site-packages\\tf_keras\\src\\losses.py:2976: The name tf.losses.sparse_softmax_cross_entropy is deprecated. Please use tf.compat.v1.losses.sparse_softmax_cross_entropy instead.\n",
      "\n"
     ]
    }
   ],
   "source": [
    "# embeddings = OpenAIEmbeddings(openai_api_key=OPENAI_API_KEY)\n",
    "embedding_model = HuggingFaceEmbeddings(model_name=\"sentence-transformers/all-MiniLM-L6-v2\")\n"
   ]
  },
  {
   "cell_type": "code",
   "execution_count": null,
   "metadata": {},
   "outputs": [],
   "source": [
    "def load_docs(df, start_index=0):\n",
    "    \"\"\"Convert DataFrame into a list of Documents from a specific index onward.\"\"\"\n",
    "    docs = []\n",
    "    for idx, row in df.iloc[start_index:].iterrows():\n",
    "        # content = f\"Title: {row.get('review_title', '')}. Review: {row.get('review_text', '')}\"\n",
    "        content = f\"Product: {row.get('product_title', 'Unknown')}. Price: ${row.get('price', 'N/A')}.Rating: {row.get('rating', 'N/A')} stars. Color: {row.get('Color', 'N/A')}. Categories: {row.get('categories', 'N/A')}. ReviewTitle: {row.get('review_title', '')}. Review: {row.get('review_text', '')}\"   \n",
    "        doc = Document(page_content=content, metadata={\"rating\": row.get(\"rating\", \"N/A\"),\"price\": row.get(\"price\", \"N/A\"),\"product_title\": row.get(\"product_title\", \"N/A\"),\"parent_asin\": row.get(\"parent_asin\", \"N/A\") ,\"index\": idx })\n",
    "        docs.append(doc)\n",
    "        # print(idx)\n",
    "    return docs"
   ]
  },
  {
   "cell_type": "code",
   "execution_count": null,
   "metadata": {},
   "outputs": [],
   "source": [
    "existing_size = 0    \n",
    "# Get new documents to embed\n",
    "docs = load_docs(df_renamed, start_index=existing_size)\n"
   ]
  },
  {
   "cell_type": "code",
   "execution_count": 23,
   "metadata": {},
   "outputs": [
    {
     "name": "stdout",
     "output_type": "stream",
     "text": [
      "754079\n",
      "page_content='Product: Fortune Candy 8-Inch Fry Pan with Lid, 3-ply Skillet, 18/8 Stainless Steel, Dishwasher Safe, Induction Ready, Silver (Mirror Finish). Price: $24.99.Rating: 5 stars. Color: Mirror Finish. Categories: ['Home & Kitchen', 'Kitchen & Dining', 'Cookware', 'Pots & Pans', 'Skillets']. ReviewTitle: Stailess, healthier than coated pans. Review: Great little stainless steel, balanced, good weight, frying pan with lide' metadata={'rating': 5, 'price': 24.99, 'product_title': 'Fortune Candy 8-Inch Fry Pan with Lid, 3-ply Skillet, 18/8 Stainless Steel, Dishwasher Safe, Induction Ready, Silver (Mirror Finish)', 'parent_asin': 'B08C7JYKZH', 'index': 1}\n"
     ]
    }
   ],
   "source": [
    "print(len(docs))\n",
    "print((docs[1]))"
   ]
  },
  {
   "cell_type": "code",
   "execution_count": null,
   "metadata": {},
   "outputs": [
    {
     "name": "stdout",
     "output_type": "stream",
     "text": [
      "Creating new FAISS index...\n"
     ]
    }
   ],
   "source": [
    "faiss_index_path = \"Resources/vector\"  \n",
    "\n",
    "batch_size = 500 \n",
    "# Check if FAISS index exists\n",
    "if os.path.exists(faiss_index_path):\n",
    "    print(\"Loading existing FAISS index...\")\n",
    "    vector_store = FAISS.load_local(faiss_index_path, embedding_model, allow_dangerous_deserialization=True)\n",
    "    existing_size = vector_store.index.ntotal  # Number of vectors stored\n",
    "    print(f\"Existing FAISS index has {existing_size} embeddings.\")\n",
    "else:\n",
    "    print(\"Creating new FAISS index...\")\n",
    "    # vector_store = None\n",
    "    vector_store = FAISS.from_documents(docs[:batch_size], embedding_model)\n",
    "    vector_store.save_local(faiss_index_path)"
   ]
  },
  {
   "cell_type": "code",
   "execution_count": null,
   "metadata": {},
   "outputs": [],
   "source": [
    "def store_incrementally_in_faiss(docs, faiss_index_path, batch_size=500):\n",
    "    \"\"\"Loads existing FAISS index, adds new embeddings in batches, and saves back.\"\"\"\n",
    "\n",
    "    # Ensure the directory exists\n",
    "    if not os.path.exists(os.path.dirname(faiss_index_path)):\n",
    "        os.makedirs(os.path.dirname(faiss_index_path))\n",
    "\n",
    "    # Check if FAISS index exists\n",
    "    if os.path.exists(faiss_index_path):\n",
    "        print(\"🔄 Loading existing FAISS index...\")\n",
    "        vector_store = FAISS.load_local(faiss_index_path, embedding_model, allow_dangerous_deserialization=True)\n",
    "        existing_size = vector_store.index.ntotal  # Number of vectors stored\n",
    "        print(f\"📊 Existing FAISS index contains {existing_size} embeddings.\")\n",
    "        start_index = existing_size//batch_size\n",
    "    else:\n",
    "        print(\"🆕 Creating new FAISS index...\")\n",
    "        vector_store = None\n",
    "        existing_size = 0\n",
    "\n",
    "    # Get only new documents\n",
    "    new_docs = docs[existing_size:]\n",
    "    \n",
    "    if not new_docs:\n",
    "        print(\"✅ No new documents to embed. FAISS index is up-to-date.\")\n",
    "        return\n",
    "\n",
    "    # Process remaining documents in batches and save each batch as they are generated\n",
    "    # Even if this fails , it can start from where it left off \n",
    "    for i in range(start_index, len(new_docs), batch_size):\n",
    "        batch = new_docs[i:i + batch_size]\n",
    "        print(f\"🛠️ Processing batch {i // batch_size + 1} with {len(batch)} documents starting from index {start_index}...\")\n",
    "        vector_store.add_documents(batch)  # Always add to the existing vector store\n",
    "        vector_store.save_local(faiss_index_path)\n",
    "        existing_size = vector_store.index.ntotal  # Number of vectors stored\n",
    "        start_index = existing_size//batch_size\n",
    "\n",
    "    # Save updated FAISS index after all batches are processed\n",
    "    #vector_store.save_local(faiss_index_path)\n",
    "    \n",
    "    # Check if FAISS index was created\n",
    "    if os.path.exists(faiss_index_path + \".index\"):\n",
    "        print(f\"✅ FAISS index successfully saved at: {faiss_index_path}\")\n",
    "    else:\n",
    "        print(\"❌ FAISS index was NOT created! Check for errors.\")"
   ]
  },
  {
   "cell_type": "code",
   "execution_count": 40,
   "metadata": {},
   "outputs": [
    {
     "name": "stderr",
     "output_type": "stream",
     "text": [
      "c:\\Users\\sowmy\\.conda\\envs\\dev\\lib\\site-packages\\huggingface_hub\\utils\\_deprecation.py:131: FutureWarning: 'post' (from 'huggingface_hub.inference._client') is deprecated and will be removed from version '0.31.0'. Making direct POST requests to the inference server is not supported anymore. Please use task methods instead (e.g. `InferenceClient.chat_completion`). If your use case is not supported, please open an issue in https://github.com/huggingface/huggingface_hub.\n",
      "  warnings.warn(warning_message, FutureWarning)\n"
     ]
    },
    {
     "name": "stdout",
     "output_type": "stream",
     "text": [
      "\n",
      "🤖 Chatbot: Use the following pieces of context to answer the question at the end. If you don't know the answer, just say that you don't know, don't try to make up an answer.\n",
      "\n",
      "Product: Breville Fresh and Furious Blender, Silver, BBL620SIL. Price: $169.99.Rating: 5 stars. Color: Silver. Categories: ['Home & Kitchen', 'Kitchen & Dining', 'Small Appliances', 'Blenders', 'Countertop Blenders']. ReviewTitle: Powerful Blender.. Review: Powerful Blender.  You can use it to make many different things.  It is easy to take apart and clean.  Crushes ice really well.  Blends even better when making smoothies or Ice cream shakes.  I can't wait to make soups in this thing.  It is a powerful blender.\n",
      "\n",
      "Product: Breville Fresh and Furious Blender, Silver, BBL620SIL. Price: $169.99.Rating: 5 stars. Color: Silver. Categories: ['Home & Kitchen', 'Kitchen & Dining', 'Small Appliances', 'Blenders', 'Countertop Blenders']. ReviewTitle: a little noisy but powerful. Review: would highly recommend.  I've had other blenders but this one will be my last.\n",
      "\n",
      "Product: Breville Fresh and Furious Blender, Silver, BBL620SIL. Price: $169.99.Rating: 5 stars. Color: Silver. Categories: ['Home & Kitchen', 'Kitchen & Dining', 'Small Appliances', 'Blenders', 'Countertop Blenders']. ReviewTitle: Amazing blender. Review: I snagged this on black Friday sale, marked way down. I'd easy pay full price for this machine. It does an amazing job blending green smoothies to a creamy texture. Clean up is a breeze.  Noise level is acceptable, it's a blender.  I found this blender based off the glowing American test kitchen reviews.  Highly recommend.\n",
      "\n",
      "Product: Breville Fresh and Furious Blender, Silver, BBL620SIL. Price: $169.99.Rating: 5 stars. Color: Silver. Categories: ['Home & Kitchen', 'Kitchen & Dining', 'Small Appliances', 'Blenders', 'Countertop Blenders']. ReviewTitle: Absolutely the best blender on the market. Review: Generous capacity, great power for crushing ice, easy to clean, and works every single time. No complaints at all!\n",
      "\n",
      "Question: give me top rated blenders\n",
      "Helpful Answer: Based on the reviews given, the top rated blenders are:\n",
      "\n",
      "1. Breville Fresh and Furious Blender, Silver, BBL620SIL\n",
      "2. Breville Fresh and Furious Blender, Silver, BBL620SIL\n",
      "3. Breville Fresh and Furious Blender, Silver, BBL620SIL\n",
      "4. Breville Fresh and Furious Blender, Silver, BBL620SIL\n",
      "\n",
      "Note: All the blenders mentioned are the same product, Breville Fresh and Furious Blender, Silver, BBL620SIL.\n"
     ]
    },
    {
     "name": "stderr",
     "output_type": "stream",
     "text": [
      "c:\\Users\\sowmy\\.conda\\envs\\dev\\lib\\site-packages\\huggingface_hub\\utils\\_deprecation.py:131: FutureWarning: 'post' (from 'huggingface_hub.inference._client') is deprecated and will be removed from version '0.31.0'. Making direct POST requests to the inference server is not supported anymore. Please use task methods instead (e.g. `InferenceClient.chat_completion`). If your use case is not supported, please open an issue in https://github.com/huggingface/huggingface_hub.\n",
      "  warnings.warn(warning_message, FutureWarning)\n"
     ]
    },
    {
     "name": "stdout",
     "output_type": "stream",
     "text": [
      "\n",
      "🤖 Chatbot: Use the following pieces of context to answer the question at the end. If you don't know the answer, just say that you don't know, don't try to make up an answer.\n",
      "\n",
      "Product: Mooca 6 Tier Acrylic Eyeglasses Frame Stand, Sunglasses Rack, Sunglasses Stand Acrylic Sunglasses Display, Sunglasses Rack Holder, Acrylic Glass Display, 8”H. Price: $14.99.Rating: 1 stars. Color: 6 Frame Stand. Categories: ['Home & Kitchen', 'Home Décor Products', 'Home Décor Accents', 'Display Stands', 'Risers']. ReviewTitle: Not recommended for sunglasses - too small!. Review: Disappointed! Not enough space to hold sunglasses! This is a better option for small reading glasses 👎🏻\n",
      "\n",
      "Product: Mooca 6 Tier Acrylic Eyeglasses Frame Stand, Sunglasses Rack, Sunglasses Stand Acrylic Sunglasses Display, Sunglasses Rack Holder, Acrylic Glass Display, 8”H. Price: $14.99.Rating: 1 stars. Color: 6 Frame Stand. Categories: ['Home & Kitchen', 'Home Décor Products', 'Home Décor Accents', 'Display Stands', 'Risers']. ReviewTitle: Not good for everyday use. Review: It's very difficult to balance the eyeglasses on the rack. The eyeglasses keep falling off. It is also very cheaply made.\n",
      "\n",
      "Product: Mooca 6 Tier Acrylic Eyeglasses Frame Stand, Sunglasses Rack, Sunglasses Stand Acrylic Sunglasses Display, Sunglasses Rack Holder, Acrylic Glass Display, 8”H. Price: $14.99.Rating: 5 stars. Color: 6 Frame Stand. Categories: ['Home & Kitchen', 'Home Décor Products', 'Home Décor Accents', 'Display Stands', 'Risers']. ReviewTitle: Five Stars. Review: Great display !\n",
      "\n",
      "Product: Mooca 6 Tier Acrylic Eyeglasses Frame Stand, Sunglasses Rack, Sunglasses Stand Acrylic Sunglasses Display, Sunglasses Rack Holder, Acrylic Glass Display, 8”H. Price: $14.99.Rating: 5 stars. Color: 6 Frame Stand. Categories: ['Home & Kitchen', 'Home Décor Products', 'Home Décor Accents', 'Display Stands', 'Risers']. ReviewTitle: Sturdy. Review: Have these in our optical shop. They are sturdy and easy to put together. Display frames without cluttering shelves!\n",
      "\n",
      "Question: give me top rated sunglasses\n",
      "Helpful Answer: I'm sorry but the given context does not provide information about top rated sunglasses.\n"
     ]
    },
    {
     "name": "stderr",
     "output_type": "stream",
     "text": [
      "c:\\Users\\sowmy\\.conda\\envs\\dev\\lib\\site-packages\\huggingface_hub\\utils\\_deprecation.py:131: FutureWarning: 'post' (from 'huggingface_hub.inference._client') is deprecated and will be removed from version '0.31.0'. Making direct POST requests to the inference server is not supported anymore. Please use task methods instead (e.g. `InferenceClient.chat_completion`). If your use case is not supported, please open an issue in https://github.com/huggingface/huggingface_hub.\n",
      "  warnings.warn(warning_message, FutureWarning)\n"
     ]
    },
    {
     "name": "stdout",
     "output_type": "stream",
     "text": [
      "\n",
      "🤖 Chatbot: Use the following pieces of context to answer the question at the end. If you don't know the answer, just say that you don't know, don't try to make up an answer.\n",
      "\n",
      "Product: Fortune Candy 8-Inch Fry Pan with Lid, 3-ply Skillet, 18/8 Stainless Steel, Dishwasher Safe, Induction Ready, Silver (Mirror Finish). Price: $24.99.Rating: 5 stars. Color: Mirror Finish. Categories: ['Home & Kitchen', 'Kitchen & Dining', 'Cookware', 'Pots & Pans', 'Skillets']. ReviewTitle: A good pan. Review: The quality is there. I bought some baking soda cleaner to keep the inside looking like new. I’m so used to the coatings on cookware so I’m reprograming myself to use a low heat.<br />I’d recommend.\n",
      "\n",
      "Product: DELARLO Whole body Tri-Ply Stainless Steel 10inch Frying Pan and 6Quarts Sauté Pans set, Oven safe induction skillet,pots and pans set,Suitable for All Stove. Price: $66.49.Rating: 5 stars. Color: Silver. Categories: ['Home & Kitchen', 'Kitchen & Dining', 'Cookware', 'Pots & Pans', 'Skillets']. ReviewTitle: Good quality but expensive. Review: Disappointed that one pan was scratched like the other reviewers stated but it doesnt affect overall function.  I am pleased with my purchase. Pans are heavy and solid. Easy to clean and good to cook with. Would buy again.\n",
      "\n",
      "Product: Cuisinart MultiClad Pro 12\" w/Helper Handle Skillet, Inch, Stainless Steel. Price: $74.95.Rating: 5 stars. Color: Skillet w/Helper. Categories: ['Home & Kitchen', 'Kitchen & Dining', 'Cookware', 'Pots & Pans', 'Skillets']. ReviewTitle: Beautiful Pan. Review: I am not an expert on fine cookware, and I am very happy with this pan.. It is well made, sturdy pan with a heavy bottom. It does take longer to heat, however, it retains its heat for much longer than normal pans. It is easy to clean when used properly. Cooks very well. Now it is the nicest pan I own!\n",
      "\n",
      "Product: AmazonCommercial 8\" Stainless Steel Aluminum-Clad Fry Pan. Price: $15.74.Rating: 5 stars. Color: Stainless Steel. Categories: ['Home & Kitchen', 'Kitchen & Dining', 'Cookware', 'Pots & Pans', 'Woks & Stir-Fry Pans']. ReviewTitle: Unbelievable value and quality!. Review: [[VIDEOID:48cccf879c6c5f13989cc036e9d06376]] Half the price of other stainless steel skillets.  Worked even better than some of my other higher end, name brand stainless steel cookware.\n",
      "\n",
      "Question: give me top rated cooking pans\n",
      "Helpful Answer: Here are the top rated cooking pans based on customer reviews:\n",
      "\n",
      "1. Cuisinart MultiClad Pro 12\" w/Helper Handle Skillet, Inch, Stainless Steel.\n",
      "2. DELARLO Whole body Tri-Ply Stainless Steel 10inch Frying Pan and 6Quarts Sauté Pans set.\n",
      "3. Fortune Candy 8-Inch Fry Pan with Lid, 3-ply Skillet, 18/8 Stainless Steel, Dishwasher Safe, Induction Ready, Silver (Mirror Finish).\n",
      "4. Cuisinart GreenLife Ceramic NonStick 11\" Round Skillet.\n",
      "5. KitchenAid KSM1111OB 11-Inch NonStick Frying Pan.\n",
      "6. AmazonCommercial 8\" Stainless Steel Aluminum-Clad Fry Pan.\n",
      "7. GreenPan Valencia Pro 11\" NonStick Open Skillet.\n",
      "8. T-fal Pro 7047765US 11 Inch NonStick Fry Pan.\n",
      "9. Circulon Premier 8009726NSP NonStick 8 Inch Round Fry Pan.\n",
      "10. Anolion Gourmet Advanced NonStick 11\" Open Skillet.\n",
      "\n",
      "Note: The prices are approximate and may vary depending on the retailer and location.\n"
     ]
    },
    {
     "name": "stderr",
     "output_type": "stream",
     "text": [
      "c:\\Users\\sowmy\\.conda\\envs\\dev\\lib\\site-packages\\huggingface_hub\\utils\\_deprecation.py:131: FutureWarning: 'post' (from 'huggingface_hub.inference._client') is deprecated and will be removed from version '0.31.0'. Making direct POST requests to the inference server is not supported anymore. Please use task methods instead (e.g. `InferenceClient.chat_completion`). If your use case is not supported, please open an issue in https://github.com/huggingface/huggingface_hub.\n",
      "  warnings.warn(warning_message, FutureWarning)\n"
     ]
    },
    {
     "name": "stdout",
     "output_type": "stream",
     "text": [
      "\n",
      "🤖 Chatbot: Use the following pieces of context to answer the question at the end. If you don't know the answer, just say that you don't know, don't try to make up an answer.\n",
      "\n",
      "Product: TigQiang 40ft LED Rope Lights, Dimmable Indoor Outdoor Rope Lights, Waterproof, 432 Warm White LEDs, Flexible Connectable Cuttable, 110V 3000K, for Bedroom Garden Patio Stairs Balcony Party. Price: $36.99.Rating: 5 stars. Color: Warm White. Categories: ['Home & Kitchen', 'Seasonal Décor', 'Seasonal Lighting', 'Rope Lights']. ReviewTitle: Great for a small bedroom.. Review: I was using this for a while to light up my room. I should have ordered a longer one to give me a more fully lit room. But i'm content with the results.\n",
      "\n",
      "Product: PMS 17inch 72 LEDs Cherry Blossom Tree Lights Desk Top Bonsai Tree Lamp with Low Voltage Transformer, Ideal for Christmas Wedding Party Bedroom Home Decoration (Red). Price: $32.99.Rating: 5 stars. Color: Red. Categories: ['Home & Kitchen', 'Seasonal Décor', 'Trees']. ReviewTitle: Five Stars. Review: Very cute and very bright.  I have it in my kitchen.\n",
      "\n",
      "Product: mamre Moon Mood Lamp Unique Anniversary Marriage Valentines Day Gift Ideas Art Decoration, White Holy Wedding Under Full Moon. Price: $39.99.Rating: 5 stars. Color: White. Categories: ['Home & Kitchen', 'Home Décor Products', \"Kids' Room Décor\", 'Lamps & Lighting']. ReviewTitle: works great. Review: The base looks like wood, but is plastic, plugged it in and works like a charm, 3 levels of brightness.  Will be a nice gift for Valentines Day.<br /><br />Update- have used it for a night light for the grandkids. Works great. Is lasting better then i thought.\n",
      "\n",
      "Product: Deco Window 60\" Garden Torch Set of 4 Metal Casted Outdoor Backyard Patio Lighting Citronella Oil Lamp with Snuffer & Fiberglass Wick (Brown). Price: $44.99.Rating: 5 stars. Color: Brown (4 Pcs). Categories: ['Home & Kitchen', 'Home Décor Products', 'Oil Lamps & Accessories', 'Oil Lamps']. ReviewTitle: Great!. Review: Super easy to assemble. Seems to be of great quality. So far so good!\n",
      "\n",
      "Question: give me top rated table lamps\n",
      "Helpful Answer: The top rated table lamps are the mamre Moon Mood Lamp, the Deco Window 60\" Garden Torch Set of 4, the PMS 17inch 72 LEDs Cherry Blossom Tree Lights Desk Top Bonsai Tree Lamp and the TigQiang 40ft LED Rope Lights.\n"
     ]
    },
    {
     "ename": "KeyboardInterrupt",
     "evalue": "Interrupted by user",
     "output_type": "error",
     "traceback": [
      "\u001b[1;31m---------------------------------------------------------------------------\u001b[0m",
      "\u001b[1;31mKeyboardInterrupt\u001b[0m                         Traceback (most recent call last)",
      "Cell \u001b[1;32mIn[40], line 24\u001b[0m\n\u001b[0;32m     21\u001b[0m         \u001b[38;5;28mprint\u001b[39m(\u001b[38;5;124mf\u001b[39m\u001b[38;5;124m\"\u001b[39m\u001b[38;5;130;01m\\n\u001b[39;00m\u001b[38;5;124m🤖 Chatbot: \u001b[39m\u001b[38;5;132;01m{\u001b[39;00mresponse\u001b[38;5;132;01m}\u001b[39;00m\u001b[38;5;124m\"\u001b[39m)\n\u001b[0;32m     23\u001b[0m \u001b[38;5;66;03m# Run the chatbot\u001b[39;00m\n\u001b[1;32m---> 24\u001b[0m \u001b[43mload_faiss_and_chat\u001b[49m\u001b[43m(\u001b[49m\u001b[43m)\u001b[49m\n",
      "Cell \u001b[1;32mIn[40], line 16\u001b[0m, in \u001b[0;36mload_faiss_and_chat\u001b[1;34m(faiss_index_path)\u001b[0m\n\u001b[0;32m     13\u001b[0m qa_chain \u001b[38;5;241m=\u001b[39m RetrievalQA\u001b[38;5;241m.\u001b[39mfrom_chain_type(llm\u001b[38;5;241m=\u001b[39mllm, retriever\u001b[38;5;241m=\u001b[39mvector_store\u001b[38;5;241m.\u001b[39mas_retriever())\n\u001b[0;32m     15\u001b[0m \u001b[38;5;28;01mwhile\u001b[39;00m \u001b[38;5;28;01mTrue\u001b[39;00m:\n\u001b[1;32m---> 16\u001b[0m     query \u001b[38;5;241m=\u001b[39m \u001b[38;5;28;43minput\u001b[39;49m\u001b[43m(\u001b[49m\u001b[38;5;124;43m\"\u001b[39;49m\u001b[38;5;130;43;01m\\n\u001b[39;49;00m\u001b[38;5;124;43mAsk a question (or type \u001b[39;49m\u001b[38;5;124;43m'\u001b[39;49m\u001b[38;5;124;43mexit\u001b[39;49m\u001b[38;5;124;43m'\u001b[39;49m\u001b[38;5;124;43m to quit): \u001b[39;49m\u001b[38;5;124;43m\"\u001b[39;49m\u001b[43m)\u001b[49m\n\u001b[0;32m     17\u001b[0m     \u001b[38;5;28;01mif\u001b[39;00m query\u001b[38;5;241m.\u001b[39mlower() \u001b[38;5;241m==\u001b[39m \u001b[38;5;124m\"\u001b[39m\u001b[38;5;124mexit\u001b[39m\u001b[38;5;124m\"\u001b[39m:\n\u001b[0;32m     18\u001b[0m         \u001b[38;5;28mprint\u001b[39m(\u001b[38;5;124m\"\u001b[39m\u001b[38;5;124mGoodbye!\u001b[39m\u001b[38;5;124m\"\u001b[39m)\n",
      "File \u001b[1;32mc:\\Users\\sowmy\\.conda\\envs\\dev\\lib\\site-packages\\ipykernel\\kernelbase.py:1262\u001b[0m, in \u001b[0;36mKernel.raw_input\u001b[1;34m(self, prompt)\u001b[0m\n\u001b[0;32m   1260\u001b[0m     msg \u001b[38;5;241m=\u001b[39m \u001b[38;5;124m\"\u001b[39m\u001b[38;5;124mraw_input was called, but this frontend does not support input requests.\u001b[39m\u001b[38;5;124m\"\u001b[39m\n\u001b[0;32m   1261\u001b[0m     \u001b[38;5;28;01mraise\u001b[39;00m StdinNotImplementedError(msg)\n\u001b[1;32m-> 1262\u001b[0m \u001b[38;5;28;01mreturn\u001b[39;00m \u001b[38;5;28;43mself\u001b[39;49m\u001b[38;5;241;43m.\u001b[39;49m\u001b[43m_input_request\u001b[49m\u001b[43m(\u001b[49m\n\u001b[0;32m   1263\u001b[0m \u001b[43m    \u001b[49m\u001b[38;5;28;43mstr\u001b[39;49m\u001b[43m(\u001b[49m\u001b[43mprompt\u001b[49m\u001b[43m)\u001b[49m\u001b[43m,\u001b[49m\n\u001b[0;32m   1264\u001b[0m \u001b[43m    \u001b[49m\u001b[38;5;28;43mself\u001b[39;49m\u001b[38;5;241;43m.\u001b[39;49m\u001b[43m_parent_ident\u001b[49m\u001b[43m[\u001b[49m\u001b[38;5;124;43m\"\u001b[39;49m\u001b[38;5;124;43mshell\u001b[39;49m\u001b[38;5;124;43m\"\u001b[39;49m\u001b[43m]\u001b[49m\u001b[43m,\u001b[49m\n\u001b[0;32m   1265\u001b[0m \u001b[43m    \u001b[49m\u001b[38;5;28;43mself\u001b[39;49m\u001b[38;5;241;43m.\u001b[39;49m\u001b[43mget_parent\u001b[49m\u001b[43m(\u001b[49m\u001b[38;5;124;43m\"\u001b[39;49m\u001b[38;5;124;43mshell\u001b[39;49m\u001b[38;5;124;43m\"\u001b[39;49m\u001b[43m)\u001b[49m\u001b[43m,\u001b[49m\n\u001b[0;32m   1266\u001b[0m \u001b[43m    \u001b[49m\u001b[43mpassword\u001b[49m\u001b[38;5;241;43m=\u001b[39;49m\u001b[38;5;28;43;01mFalse\u001b[39;49;00m\u001b[43m,\u001b[49m\n\u001b[0;32m   1267\u001b[0m \u001b[43m\u001b[49m\u001b[43m)\u001b[49m\n",
      "File \u001b[1;32mc:\\Users\\sowmy\\.conda\\envs\\dev\\lib\\site-packages\\ipykernel\\kernelbase.py:1305\u001b[0m, in \u001b[0;36mKernel._input_request\u001b[1;34m(self, prompt, ident, parent, password)\u001b[0m\n\u001b[0;32m   1302\u001b[0m \u001b[38;5;28;01mexcept\u001b[39;00m \u001b[38;5;167;01mKeyboardInterrupt\u001b[39;00m:\n\u001b[0;32m   1303\u001b[0m     \u001b[38;5;66;03m# re-raise KeyboardInterrupt, to truncate traceback\u001b[39;00m\n\u001b[0;32m   1304\u001b[0m     msg \u001b[38;5;241m=\u001b[39m \u001b[38;5;124m\"\u001b[39m\u001b[38;5;124mInterrupted by user\u001b[39m\u001b[38;5;124m\"\u001b[39m\n\u001b[1;32m-> 1305\u001b[0m     \u001b[38;5;28;01mraise\u001b[39;00m \u001b[38;5;167;01mKeyboardInterrupt\u001b[39;00m(msg) \u001b[38;5;28;01mfrom\u001b[39;00m \u001b[38;5;28;01mNone\u001b[39;00m\n\u001b[0;32m   1306\u001b[0m \u001b[38;5;28;01mexcept\u001b[39;00m \u001b[38;5;167;01mException\u001b[39;00m:\n\u001b[0;32m   1307\u001b[0m     \u001b[38;5;28mself\u001b[39m\u001b[38;5;241m.\u001b[39mlog\u001b[38;5;241m.\u001b[39mwarning(\u001b[38;5;124m\"\u001b[39m\u001b[38;5;124mInvalid Message:\u001b[39m\u001b[38;5;124m\"\u001b[39m, exc_info\u001b[38;5;241m=\u001b[39m\u001b[38;5;28;01mTrue\u001b[39;00m)\n",
      "\u001b[1;31mKeyboardInterrupt\u001b[0m: Interrupted by user"
     ]
    }
   ],
   "source": [
    "def load_faiss_and_chat(faiss_index_path=faiss_index_path):\n",
    "    \"\"\"Loads FAISS and creates a chatbot using Hugging Face LLM.\"\"\"\n",
    "    \n",
    "    # Load FAISS vector store\n",
    "    vector_store = FAISS.load_local(faiss_index_path, embedding_model,allow_dangerous_deserialization=True)\n",
    "\n",
    "    # Use a Hugging Face model as the LLM\n",
    "    llm = HuggingFaceHub(repo_id=\"mistralai/Mistral-7B-Instruct-v0.1\"\n",
    "                         , model_kwargs={\"temperature\": 0.7}\n",
    "                         ,huggingfacehub_api_token = huggingfacehubapi)\n",
    "\n",
    "    # Create a QA chain using retrieval\n",
    "    qa_chain = RetrievalQA.from_chain_type(llm=llm, retriever=vector_store.as_retriever())\n",
    "\n",
    "    while True:\n",
    "        query = input(\"\\nAsk a question (or type 'exit' to quit): \")\n",
    "        if query.lower() == \"exit\":\n",
    "            print(\"Goodbye!\")\n",
    "            break\n",
    "        response = qa_chain.run(query)\n",
    "        print(f\"\\n🤖 Chatbot: {response}\")\n",
    "\n",
    "# Run the chatbot\n",
    "load_faiss_and_chat()\n"
   ]
  },
  {
   "cell_type": "markdown",
   "metadata": {},
   "source": []
  }
 ],
 "metadata": {
  "kernelspec": {
   "display_name": "dev",
   "language": "python",
   "name": "python3"
  },
  "language_info": {
   "codemirror_mode": {
    "name": "ipython",
    "version": 3
   },
   "file_extension": ".py",
   "mimetype": "text/x-python",
   "name": "python",
   "nbconvert_exporter": "python",
   "pygments_lexer": "ipython3",
   "version": "3.10.15"
  }
 },
 "nbformat": 4,
 "nbformat_minor": 2
}
