{
  "nbformat": 4,
  "nbformat_minor": 0,
  "metadata": {
    "colab": {
      "provenance": [],
      "machine_shape": "hm",
      "gpuType": "A100",
      "authorship_tag": "ABX9TyOI4dE79Gegcu/73V5uMnWH",
      "include_colab_link": true
    },
    "kernelspec": {
      "name": "python3",
      "display_name": "Python 3"
    },
    "language_info": {
      "name": "python"
    },
    "accelerator": "GPU"
  },
  "cells": [
    {
      "cell_type": "markdown",
      "metadata": {
        "id": "view-in-github",
        "colab_type": "text"
      },
      "source": [
        "<a href=\"https://colab.research.google.com/github/sowmyarshetty/CapstoneProject-AI-Class/blob/main/AmazonHomeKitchenReviewsDataCollection.ipynb\" target=\"_parent\"><img src=\"https://colab.research.google.com/assets/colab-badge.svg\" alt=\"Open In Colab\"/></a>"
      ]
    },
    {
      "cell_type": "code",
      "source": [],
      "metadata": {
        "id": "PclZc23p7xUe"
      },
      "execution_count": 9,
      "outputs": []
    },
    {
      "cell_type": "code",
      "execution_count": 3,
      "metadata": {
        "id": "7OKv7TlaVDuY"
      },
      "outputs": [],
      "source": [
        "import pandas as pd\n",
        "import dask.dataframe as dd\n",
        "import gdown\n",
        "import re\n",
        "import numpy as np\n",
        "# from sklearn.feature_extraction.text import CountVectorizer\n",
        "# from sklearn.decomposition import LatentDirichletAllocation\n",
        "# from bertopic import BERTopic\n",
        "# from sentence_transformers import SentenceTransformer"
      ]
    },
    {
      "cell_type": "code",
      "source": [
        "# Mount Google Drive (For Colab Users)\n",
        "from google.colab import drive\n",
        "drive.mount('/content/drive')\n"
      ],
      "metadata": {
        "colab": {
          "base_uri": "https://localhost:8080/"
        },
        "id": "lm35v8Xx-3Jn",
        "outputId": "4a73909a-cebb-4199-e159-1d8f3be0a5d6"
      },
      "execution_count": 4,
      "outputs": [
        {
          "output_type": "stream",
          "name": "stdout",
          "text": [
            "Drive already mounted at /content/drive; to attempt to forcibly remount, call drive.mount(\"/content/drive\", force_remount=True).\n"
          ]
        }
      ]
    },
    {
      "cell_type": "markdown",
      "source": [],
      "metadata": {
        "id": "FIz7E3vW_Lm_"
      }
    },
    {
      "cell_type": "code",
      "source": [
        "metadatafileid = '1eo8HyJeC5_G9KCHItFsLdJWLcCPTsrS0'\n",
        "reviewsfileid = '1LFUK3el3oLgjcl1WKy-MzalCHh8xnJk5'\n",
        "metafilename = 'meta_Home_and_Kitchen_50k.jsonl'\n",
        "reviewsfilename = 'Home_and_Kitchen_1M.jsonl'\n",
        "\n",
        "metadataurl = f\"https://drive.google.com/uc?export=download&id={metadatafileid}\"\n",
        "reviewsurl = f\"https://drive.google.com/uc?export=download&id={reviewsfileid}\"\n",
        "\n",
        "gdown.download(metadataurl,metafilename, quiet=False)\n",
        "gdown.download(reviewsurl, reviewsfilename, quiet=False)\n",
        "\n"
      ],
      "metadata": {
        "colab": {
          "base_uri": "https://localhost:8080/",
          "height": 209
        },
        "id": "N2u7Btv9_JZC",
        "outputId": "00f81c69-0087-42c4-8f3d-77e8e5993eaa"
      },
      "execution_count": 5,
      "outputs": [
        {
          "output_type": "stream",
          "name": "stderr",
          "text": [
            "Downloading...\n",
            "From (original): https://drive.google.com/uc?export=download&id=1eo8HyJeC5_G9KCHItFsLdJWLcCPTsrS0\n",
            "From (redirected): https://drive.google.com/uc?export=download&id=1eo8HyJeC5_G9KCHItFsLdJWLcCPTsrS0&confirm=t&uuid=f6bc4800-2f99-4a7f-999f-ec1cc0b9f3e0\n",
            "To: /content/meta_Home_and_Kitchen_50k.jsonl\n",
            "100%|██████████| 185M/185M [00:01<00:00, 125MB/s]\n",
            "Downloading...\n",
            "From (original): https://drive.google.com/uc?export=download&id=1LFUK3el3oLgjcl1WKy-MzalCHh8xnJk5\n",
            "From (redirected): https://drive.google.com/uc?export=download&id=1LFUK3el3oLgjcl1WKy-MzalCHh8xnJk5&confirm=t&uuid=3dc6c020-ef14-4dc8-b3b6-da242d4aae8b\n",
            "To: /content/Home_and_Kitchen_1M.jsonl\n",
            "100%|██████████| 6.52G/6.52G [00:32<00:00, 200MB/s]\n"
          ]
        },
        {
          "output_type": "execute_result",
          "data": {
            "text/plain": [
              "'Home_and_Kitchen_1M.jsonl'"
            ],
            "application/vnd.google.colaboratory.intrinsic+json": {
              "type": "string"
            }
          },
          "metadata": {},
          "execution_count": 5
        }
      ]
    },
    {
      "cell_type": "markdown",
      "source": [
        "* Read the json files into dataframes"
      ],
      "metadata": {
        "id": "pwdcecevIGaQ"
      }
    },
    {
      "cell_type": "code",
      "source": [
        "df_meta = pd.read_json(metafilename,lines=True)\n",
        "df_reviews = pd.read_json(reviewsfilename,lines=True)\n"
      ],
      "metadata": {
        "id": "uPRFjrqLAbfP"
      },
      "execution_count": 6,
      "outputs": []
    },
    {
      "cell_type": "markdown",
      "source": [
        "\n",
        "\n",
        "*   Analyse the datasets\n",
        "\n",
        "\n"
      ],
      "metadata": {
        "id": "pPBfEocwH45Y"
      }
    },
    {
      "cell_type": "code",
      "source": [
        "print(df_meta.columns)\n",
        "print(df_reviews.columns)\n",
        "pd.set_option(\"display.max_colwidth\", None)\n",
        "print(df_meta.head(1))"
      ],
      "metadata": {
        "id": "o64ec0-EH4MN",
        "colab": {
          "base_uri": "https://localhost:8080/"
        },
        "outputId": "50ad8e2a-1860-467b-d10f-b214d75f7001"
      },
      "execution_count": 7,
      "outputs": [
        {
          "output_type": "stream",
          "name": "stdout",
          "text": [
            "Index(['main_category', 'title', 'average_rating', 'rating_number', 'features',\n",
            "       'description', 'price', 'images', 'videos', 'store', 'categories',\n",
            "       'details', 'parent_asin', 'bought_together'],\n",
            "      dtype='object')\n",
            "Index(['rating', 'title', 'text', 'images', 'asin', 'parent_asin', 'user_id',\n",
            "       'timestamp', 'helpful_vote', 'verified_purchase'],\n",
            "      dtype='object')\n",
            "  main_category  \\\n",
            "0   Amazon Home   \n",
            "\n",
            "                                                                                                                                             title  \\\n",
            "0  Set of 4 Irish Coffee Glass Mugs Footed 10.5 oz.Thick Wall Glass For Coffee, tea, Cappuccinos, Mulled Ciders,Hot Chocolates, Ice cream and More   \n",
            "\n",
            "   average_rating  rating_number  \\\n",
            "0             4.6             18   \n",
            "\n",
            "                                                                                                                                                                                                                                                                                                                                                                                                                                                                                                                                                         features  \\\n",
            "0  [☕PERFECT IRISH COFFEE MUG: With our clear glass 10.5 ounce makes it a perfect mug for offering up your signature Coffee Drinks, Cappuccinos, Milk shakes, Dessert, Sundae and much more!, ☕FOOTED BOTTOM - Footed Bottom for an elegant look and easy sipping, ☕COFFEE & MORE-You can serve your favorite cappuccino, tea, coffee, ice cream,milk shakes,desserts and more!, ☕HIGHLY DURABLE GLASS - Our Irish Coffee Mugs are extremely durable with thick glass to ensure optimal durability for excellent service!, ☕DIMENSIONS: 12.8 x 11.8 x 5.3 inches]   \n",
            "\n",
            "                                                                                                                                                                                                                                                                                                                                                                        description  \\\n",
            "0  [Set of 12 Footed 10.5 oz. Irish coffee mug the perfect vessel for offering up your signature cappuccinos, mulled ciders, hot chocolates, and more! With its ornate stem and petite handle, this glass mug is certain to please. Plus, an elegant look and easy sipping, and its thick glass walls ensure optimal durability for excellent service life and fewer replacements.]   \n",
            "\n",
            "   price  \\\n",
            "0  24.95   \n",
            "\n",
            "                                                                                                                                                                                                                                                                                                                                                                                                                                                                                                                                                                                                                                                                                                                                                                                                                                                                                                                                                                                                 images  \\\n",
            "0  [{'thumb': 'https://m.media-amazon.com/images/I/41zOU0mN04L._AC_US75_.jpg', 'large': 'https://m.media-amazon.com/images/I/41zOU0mN04L._AC_.jpg', 'variant': 'MAIN', 'hi_res': 'https://m.media-amazon.com/images/I/61NZkejMUIL._AC_SL1169_.jpg'}, {'thumb': 'https://m.media-amazon.com/images/I/41OTFihWs4L._AC_US75_.jpg', 'large': 'https://m.media-amazon.com/images/I/41OTFihWs4L._AC_.jpg', 'variant': 'PT01', 'hi_res': 'https://m.media-amazon.com/images/I/61GBf06zZrL._AC_SL1500_.jpg'}, {'thumb': 'https://m.media-amazon.com/images/I/41GVQ3IIg-L._AC_US75_.jpg', 'large': 'https://m.media-amazon.com/images/I/41GVQ3IIg-L._AC_.jpg', 'variant': 'PT02', 'hi_res': 'https://m.media-amazon.com/images/I/61ll2aruhNL._AC_SL1116_.jpg'}, {'thumb': 'https://m.media-amazon.com/images/I/51dSaOaRoML._AC_US75_.jpg', 'large': 'https://m.media-amazon.com/images/I/51dSaOaRoML._AC_.jpg', 'variant': 'PT03', 'hi_res': 'https://m.media-amazon.com/images/I/81UZt+5OkjL._AC_SL1500_.jpg'}]   \n",
            "\n",
            "                                                                                                                                                                                                                                                                                                                                                                                                                                                                                                                                                                                                                                                                                                                                                                                                                                                                                                                                                                                                                                                                                                                                                                                                                                                                                                                                                                                                                                                                                                                                                                                                                                                                                                                                                                                              videos  \\\n",
            "0  [{'title': 'Irish Coffee Glass Coffee Mugs Regal Shape 8 oz. Cappuccinos', 'url': 'https://www.amazon.com/vdp/00df5d3c292b485fa88aa6c4537dcad5?ref=dp_vse_rvc_0', 'user_id': ''}, {'title': 'How to make a Toddy #mixology', 'url': 'https://www.amazon.com/vdp/07a4702140dc4e768f252b2c9504d26f?ref=dp_vse_rvc_1', 'user_id': '/shop/influencer-9643d294'}, {'title': 'Honey coffee with Javy #founditonamazon #coffeemaking ', 'url': 'https://www.amazon.com/vdp/01866724934b463bb381b3b00e18e255?ref=dp_vse_rvc_2', 'user_id': '/shop/ericas'}, {'title': 'Pink hot chocolate ', 'url': 'https://www.amazon.com/vdp/003d74e2d9a04f4a938131a18be5c0cc?ref=dp_vse_rvc_3', 'user_id': '/shop/influencer-31a10f3e'}, {'title': 'Irish coffee mugs with handle, great for hot beverages.', 'url': 'https://www.amazon.com/vdp/00493f2c9e544b528ad5623615f0653f?ref=dp_vse_rvc_4', 'user_id': ''}, {'title': 'Spiced Hot Toddy #Mixology #Cocktail #Bartend #HotToddy', 'url': 'https://www.amazon.com/vdp/01a0cdc1a1ea4af0a1f7f130fabd4a5b?ref=dp_vse_rvc_5', 'user_id': '/shop/influencer-9c4ffbfb'}, {'title': 'BTaT Double Wall Irish Mugs', 'url': 'https://www.amazon.com/vdp/5c85657167634f109c3c83f3eb109323?ref=dp_vse_rvc_6', 'user_id': ''}, {'title': 'How to make a hot toddy', 'url': 'https://www.amazon.com/vdp/d393248fe20847a188f0d958a85250ac?ref=dp_vse_rvc_7', 'user_id': 'AE3SL34RNZWZHBKVHTVDVIREYN5A'}, {'title': 'Rocky road latte #coffeemaking #founditonamazon', 'url': 'https://www.amazon.com/vdp/090320e60a8d45068ef65c07cd9dc3f4?ref=dp_vse_rvc_8', 'user_id': '/shop/ericas'}, {'title': 'Favorite coffee mugs #coffeemaking #founditonamazon', 'url': 'https://www.amazon.com/vdp/08ad285db275443992ad75f599088bc1?ref=dp_vse_rvc_9', 'user_id': '/shop/ericas'}]   \n",
            "\n",
            "      store  \\\n",
            "0  LavoHome   \n",
            "\n",
            "                                                                                                          categories  \\\n",
            "0  [Home & Kitchen, Kitchen & Dining, Dining & Entertaining, Glassware & Drinkware, Cups, Mugs, & Saucers, Mug Sets]   \n",
            "\n",
            "                                                                                                                                                                                                                                                                                                                                                                                                                                                                 details  \\\n",
            "0  {'Brand': 'LavoHome', 'Material': 'Glass', 'Color': 'Clear', 'Capacity': '10.5 Ounces', 'Style': 'Modern', 'Pattern': 'Solid', 'Product Care Instructions': 'Hand Wash Only', 'Unit Count': '4 Count', 'Product Dimensions': '12.8 x 11.8 x 5.3 inches', 'Number of Items': '4', 'Item Weight': '2 pounds', 'Best Sellers Rank': {'Kitchen & Dining': 143774, 'Mug Sets': 736}, 'Is Discontinued By Manufacturer': 'No', 'Date First Available': 'November 28, 2017'}   \n",
            "\n",
            "  parent_asin  bought_together  \n",
            "0  B07R3DYMH6              NaN  \n"
          ]
        }
      ]
    },
    {
      "cell_type": "markdown",
      "source": [
        "* Extract the brand, color and price data from the details column of the metadata"
      ],
      "metadata": {
        "id": "qeSjr7W9J--3"
      }
    },
    {
      "cell_type": "code",
      "source": [
        "df_meta_normalized = df_meta\n",
        "df_metadetails = pd.json_normalize(df_meta_normalized[\"details\"])\n",
        "# df_meta_normalized = df_meta_normalized.drop(columns=[\"details\"]).join(df_metadetails)  # Merge with main DataFrame\n",
        "df_meta_images = pd.json_normalize(df_meta_normalized[\"images\"])\n",
        "# print(df_metadetails.columns)\n",
        "# print(df_meta_images.columns)\n",
        "df_meta_normalized = df_meta_normalized.drop(columns=[\"details\",\"images\",\"videos\"]).join(df_metadetails[[\"Brand\",\"Material\",\"Color\",\"Style\",\"Pattern\"]])\n",
        "# df_meta_normalized = df_meta_normalized.drop(columns=[\"images\"]).join(df_meta_images[[\"main_image\"]])\n",
        "print(df_meta_normalized.columns)"
      ],
      "metadata": {
        "id": "e2EIfTT3J-Gg"
      },
      "execution_count": 13,
      "outputs": []
    },
    {
      "cell_type": "code",
      "source": [
        "print(df_meta_normalized.head(1))"
      ],
      "metadata": {
        "colab": {
          "base_uri": "https://localhost:8080/"
        },
        "id": "wowD2VXsK531",
        "outputId": "6fd982e3-a5bc-491d-fdc1-46cfe15b8ee7"
      },
      "execution_count": 14,
      "outputs": [
        {
          "output_type": "stream",
          "name": "stdout",
          "text": [
            "  main_category  \\\n",
            "0   Amazon Home   \n",
            "\n",
            "                                                                                                                                             title  \\\n",
            "0  Set of 4 Irish Coffee Glass Mugs Footed 10.5 oz.Thick Wall Glass For Coffee, tea, Cappuccinos, Mulled Ciders,Hot Chocolates, Ice cream and More   \n",
            "\n",
            "   average_rating  rating_number  \\\n",
            "0             4.6             18   \n",
            "\n",
            "                                                                                                                                                                                                                                                                                                                                                                                                                                                                                                                                                         features  \\\n",
            "0  [☕PERFECT IRISH COFFEE MUG: With our clear glass 10.5 ounce makes it a perfect mug for offering up your signature Coffee Drinks, Cappuccinos, Milk shakes, Dessert, Sundae and much more!, ☕FOOTED BOTTOM - Footed Bottom for an elegant look and easy sipping, ☕COFFEE & MORE-You can serve your favorite cappuccino, tea, coffee, ice cream,milk shakes,desserts and more!, ☕HIGHLY DURABLE GLASS - Our Irish Coffee Mugs are extremely durable with thick glass to ensure optimal durability for excellent service!, ☕DIMENSIONS: 12.8 x 11.8 x 5.3 inches]   \n",
            "\n",
            "                                                                                                                                                                                                                                                                                                                                                                        description  \\\n",
            "0  [Set of 12 Footed 10.5 oz. Irish coffee mug the perfect vessel for offering up your signature cappuccinos, mulled ciders, hot chocolates, and more! With its ornate stem and petite handle, this glass mug is certain to please. Plus, an elegant look and easy sipping, and its thick glass walls ensure optimal durability for excellent service life and fewer replacements.]   \n",
            "\n",
            "   price     store  \\\n",
            "0  24.95  LavoHome   \n",
            "\n",
            "                                                                                                          categories  \\\n",
            "0  [Home & Kitchen, Kitchen & Dining, Dining & Entertaining, Glassware & Drinkware, Cups, Mugs, & Saucers, Mug Sets]   \n",
            "\n",
            "  parent_asin  bought_together     Brand Material  Color   Style Pattern  \n",
            "0  B07R3DYMH6              NaN  LavoHome    Glass  Clear  Modern   Solid  \n"
          ]
        }
      ]
    },
    {
      "cell_type": "markdown",
      "source": [
        "* Merge the data sets from the meta and reviews with the relevant columns with parent_asin as the join key and index"
      ],
      "metadata": {
        "id": "HkfthO5LIJgD"
      }
    },
    {
      "cell_type": "code",
      "source": [
        "df_merged = df_reviews.merge(df_meta_normalized[['title','description','price','Brand','Material','Color','categories',\"parent_asin\"]],on='parent_asin',how='left')"
      ],
      "metadata": {
        "id": "iehbxUhCEeSE"
      },
      "execution_count": 15,
      "outputs": []
    },
    {
      "cell_type": "markdown",
      "source": [
        "* Look for reviews with missing product metadata"
      ],
      "metadata": {
        "id": "EKQYVk4jTw5k"
      }
    },
    {
      "cell_type": "code",
      "source": [
        "missing_asins_df = df_reviews[~df_reviews['parent_asin'].isin(df_meta_normalized['parent_asin'])]\n",
        "print(missing_asins_df[['parent_asin']].drop_duplicates().count())\n",
        "print(missing_asins_df[['parent_asin']].count())\n",
        "print(len(df_reviews))\n",
        "print(len(df_merged))\n",
        "print(df_merged.columns)"
      ],
      "metadata": {
        "colab": {
          "base_uri": "https://localhost:8080/"
        },
        "id": "OLpniptgRopW",
        "outputId": "adba1e8a-a843-4e70-b97d-d6a22e335eed"
      },
      "execution_count": 16,
      "outputs": [
        {
          "output_type": "stream",
          "name": "stdout",
          "text": [
            "parent_asin    1731834\n",
            "dtype: int64\n",
            "parent_asin    12359277\n",
            "dtype: int64\n",
            "13376345\n",
            "13376345\n",
            "Index(['rating', 'title_x', 'text', 'images', 'asin', 'parent_asin', 'user_id',\n",
            "       'timestamp', 'helpful_vote', 'verified_purchase', 'title_y',\n",
            "       'description', 'price', 'Brand', 'Material', 'Color', 'categories'],\n",
            "      dtype='object')\n"
          ]
        }
      ]
    },
    {
      "cell_type": "markdown",
      "source": [
        "* Remove the reviews which do not have product metadata"
      ],
      "metadata": {
        "id": "VIOBO29fT1xx"
      }
    },
    {
      "cell_type": "code",
      "source": [
        "df_new = df_merged.dropna(subset = ['title_y','description','price','Brand','Material','Color','categories','parent_asin'])\n",
        "print(len(df_new))"
      ],
      "metadata": {
        "colab": {
          "base_uri": "https://localhost:8080/"
        },
        "id": "Unw18UAVT9Ax",
        "outputId": "98e929a6-a7a5-4bb6-f0df-c97c7256fd9f"
      },
      "execution_count": 17,
      "outputs": [
        {
          "output_type": "stream",
          "name": "stdout",
          "text": [
            "754079\n"
          ]
        }
      ]
    },
    {
      "cell_type": "code",
      "source": [
        "df_new.to_csv('AmazonHomeKitchenReviews.csv')"
      ],
      "metadata": {
        "id": "CiQ8Dii1BhYz"
      },
      "execution_count": 18,
      "outputs": []
    },
    {
      "cell_type": "code",
      "source": [
        " !cp /content/AmazonHomeKitchenReviews.csv /content/drive/MyDrive/"
      ],
      "metadata": {
        "id": "UZgI9QxICR5w"
      },
      "execution_count": 19,
      "outputs": []
    }
  ]
}